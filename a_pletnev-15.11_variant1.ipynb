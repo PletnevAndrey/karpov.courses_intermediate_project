{
 "cells": [
  {
   "cell_type": "markdown",
   "metadata": {},
   "source": [
    "# Проект e-commerce: вариант 1\n",
    "Продакт-менеджер Василий попросил проанализировать совершенные покупки и ответить на следующие вопросы:\n",
    "\n",
    "1. Сколько у нас пользователей, которые совершили покупку только один раз? \n",
    "\n",
    "2. Сколько заказов в месяц в среднем не доставляется по разным причинам (вывести детализацию по причинам)?\n",
    "\n",
    "3. По каждому товару определить, в какой день недели товар чаще всего покупается.\n",
    "\n",
    "4. Сколько у каждого из пользователей в среднем покупок в неделю (по месяцам)? Не стоит забывать, что внутри месяца может быть не целое количество недель. Например, в ноябре 2021 года 4,28 недели. И внутри метрики это нужно учесть.\n",
    "\n",
    "5. Напиши функцию на python, позволяющую строить когортный анализ. В период с января по декабрь выяви когорту с самым высоким retention на 3-й месяц. Описание подхода можно найти тут.\n",
    "\n",
    "6. Построй RFM-кластеры для пользователей. Выведи для каждого кластера средние значения метрик R, F, M (и опиши подробно, как были построены метрики R, F, M). Описание подхода можно найти тут."
   ]
  },
  {
   "cell_type": "code",
   "execution_count": 1,
   "metadata": {},
   "outputs": [],
   "source": [
    "import pandas  as pd\n",
    "import seaborn as sns\n",
    "import numpy   as np\n",
    "import datetime\n",
    "import calendar\n",
    "from calendar import monthrange\n",
    "import matplotlib.pyplot as plt\n",
    "from datetime import datetime, date\n",
    "from datetime import date,timedelta"
   ]
  },
  {
   "cell_type": "markdown",
   "metadata": {},
   "source": [
    "## Импорт, описание и предобработка данных"
   ]
  },
  {
   "cell_type": "code",
   "execution_count": 2,
   "metadata": {},
   "outputs": [],
   "source": [
    "customers = pd.read_csv('https://getfile.dokpub.com/yandex/get/https://disk.yandex.ru/d/FUi5uSd6BfG_ig')\n",
    "orders    = pd.read_csv('https://getfile.dokpub.com/yandex/get/https://disk.yandex.ru/d/t9Li4JOfgxuUrg')\n",
    "items     = pd.read_csv('https://getfile.dokpub.com/yandex/get/https://disk.yandex.ru/d/Gbt-yAcQrOe3Pw')"
   ]
  },
  {
   "cell_type": "markdown",
   "metadata": {},
   "source": [
    "#### Таблица с уникальными идентификаторами пользователей customers"
   ]
  },
  {
   "cell_type": "code",
   "execution_count": 3,
   "metadata": {},
   "outputs": [
    {
     "data": {
      "text/html": [
       "<div>\n",
       "<style scoped>\n",
       "    .dataframe tbody tr th:only-of-type {\n",
       "        vertical-align: middle;\n",
       "    }\n",
       "\n",
       "    .dataframe tbody tr th {\n",
       "        vertical-align: top;\n",
       "    }\n",
       "\n",
       "    .dataframe thead th {\n",
       "        text-align: right;\n",
       "    }\n",
       "</style>\n",
       "<table border=\"1\" class=\"dataframe\">\n",
       "  <thead>\n",
       "    <tr style=\"text-align: right;\">\n",
       "      <th></th>\n",
       "      <th>customer_id</th>\n",
       "      <th>customer_unique_id</th>\n",
       "      <th>customer_zip_code_prefix</th>\n",
       "      <th>customer_city</th>\n",
       "      <th>customer_state</th>\n",
       "    </tr>\n",
       "  </thead>\n",
       "  <tbody>\n",
       "    <tr>\n",
       "      <th>0</th>\n",
       "      <td>06b8999e2fba1a1fbc88172c00ba8bc7</td>\n",
       "      <td>861eff4711a542e4b93843c6dd7febb0</td>\n",
       "      <td>14409</td>\n",
       "      <td>franca</td>\n",
       "      <td>SP</td>\n",
       "    </tr>\n",
       "    <tr>\n",
       "      <th>1</th>\n",
       "      <td>18955e83d337fd6b2def6b18a428ac77</td>\n",
       "      <td>290c77bc529b7ac935b93aa66c333dc3</td>\n",
       "      <td>9790</td>\n",
       "      <td>sao bernardo do campo</td>\n",
       "      <td>SP</td>\n",
       "    </tr>\n",
       "    <tr>\n",
       "      <th>2</th>\n",
       "      <td>4e7b3e00288586ebd08712fdd0374a03</td>\n",
       "      <td>060e732b5b29e8181a18229c7b0b2b5e</td>\n",
       "      <td>1151</td>\n",
       "      <td>sao paulo</td>\n",
       "      <td>SP</td>\n",
       "    </tr>\n",
       "  </tbody>\n",
       "</table>\n",
       "</div>"
      ],
      "text/plain": [
       "                        customer_id                customer_unique_id  \\\n",
       "0  06b8999e2fba1a1fbc88172c00ba8bc7  861eff4711a542e4b93843c6dd7febb0   \n",
       "1  18955e83d337fd6b2def6b18a428ac77  290c77bc529b7ac935b93aa66c333dc3   \n",
       "2  4e7b3e00288586ebd08712fdd0374a03  060e732b5b29e8181a18229c7b0b2b5e   \n",
       "\n",
       "   customer_zip_code_prefix          customer_city customer_state  \n",
       "0                     14409                 franca             SP  \n",
       "1                      9790  sao bernardo do campo             SP  \n",
       "2                      1151              sao paulo             SP  "
      ]
     },
     "execution_count": 3,
     "metadata": {},
     "output_type": "execute_result"
    }
   ],
   "source": [
    "customers.head(3)"
   ]
  },
  {
   "cell_type": "markdown",
   "metadata": {},
   "source": [
    "- customer_id — позаказный идентификатор пользователя (аналог номера паспорта)\n",
    "- customer_unique_id —  уникальный идентификатор пользователя\n",
    "- customer_zip_code_prefix —  почтовый индекс пользователя\n",
    "- customer_city —  город доставки пользователя\n",
    "- customer_state —  штат доставки пользователя"
   ]
  },
  {
   "cell_type": "code",
   "execution_count": 4,
   "metadata": {},
   "outputs": [
    {
     "name": "stdout",
     "output_type": "stream",
     "text": [
      "<class 'pandas.core.frame.DataFrame'>\n",
      "RangeIndex: 99441 entries, 0 to 99440\n",
      "Data columns (total 5 columns):\n",
      " #   Column                    Non-Null Count  Dtype \n",
      "---  ------                    --------------  ----- \n",
      " 0   customer_id               99441 non-null  object\n",
      " 1   customer_unique_id        99441 non-null  object\n",
      " 2   customer_zip_code_prefix  99441 non-null  int64 \n",
      " 3   customer_city             99441 non-null  object\n",
      " 4   customer_state            99441 non-null  object\n",
      "dtypes: int64(1), object(4)\n",
      "memory usage: 3.8+ MB\n"
     ]
    }
   ],
   "source": [
    "customers.info()"
   ]
  },
  {
   "cell_type": "code",
   "execution_count": 5,
   "metadata": {},
   "outputs": [
    {
     "data": {
      "text/plain": [
       "customer_id                 99441\n",
       "customer_unique_id          96096\n",
       "customer_zip_code_prefix    14994\n",
       "customer_city                4119\n",
       "customer_state                 27\n",
       "dtype: int64"
      ]
     },
     "execution_count": 5,
     "metadata": {},
     "output_type": "execute_result"
    }
   ],
   "source": [
    "customers.nunique()"
   ]
  },
  {
   "cell_type": "code",
   "execution_count": 6,
   "metadata": {},
   "outputs": [
    {
     "data": {
      "text/html": [
       "<div>\n",
       "<style scoped>\n",
       "    .dataframe tbody tr th:only-of-type {\n",
       "        vertical-align: middle;\n",
       "    }\n",
       "\n",
       "    .dataframe tbody tr th {\n",
       "        vertical-align: top;\n",
       "    }\n",
       "\n",
       "    .dataframe thead th {\n",
       "        text-align: right;\n",
       "    }\n",
       "</style>\n",
       "<table border=\"1\" class=\"dataframe\">\n",
       "  <thead>\n",
       "    <tr style=\"text-align: right;\">\n",
       "      <th></th>\n",
       "      <th>state</th>\n",
       "    </tr>\n",
       "  </thead>\n",
       "  <tbody>\n",
       "    <tr>\n",
       "      <th>count</th>\n",
       "      <td>27.000000</td>\n",
       "    </tr>\n",
       "    <tr>\n",
       "      <th>mean</th>\n",
       "      <td>3683.000000</td>\n",
       "    </tr>\n",
       "    <tr>\n",
       "      <th>std</th>\n",
       "      <td>8270.437664</td>\n",
       "    </tr>\n",
       "    <tr>\n",
       "      <th>min</th>\n",
       "      <td>46.000000</td>\n",
       "    </tr>\n",
       "    <tr>\n",
       "      <th>25%</th>\n",
       "      <td>381.500000</td>\n",
       "    </tr>\n",
       "    <tr>\n",
       "      <th>50%</th>\n",
       "      <td>907.000000</td>\n",
       "    </tr>\n",
       "    <tr>\n",
       "      <th>75%</th>\n",
       "      <td>2760.000000</td>\n",
       "    </tr>\n",
       "    <tr>\n",
       "      <th>max</th>\n",
       "      <td>41746.000000</td>\n",
       "    </tr>\n",
       "  </tbody>\n",
       "</table>\n",
       "</div>"
      ],
      "text/plain": [
       "              state\n",
       "count     27.000000\n",
       "mean    3683.000000\n",
       "std     8270.437664\n",
       "min       46.000000\n",
       "25%      381.500000\n",
       "50%      907.000000\n",
       "75%     2760.000000\n",
       "max    41746.000000"
      ]
     },
     "execution_count": 6,
     "metadata": {},
     "output_type": "execute_result"
    }
   ],
   "source": [
    "#распределение пользователей по штатам\n",
    "customers.groupby('customer_state').agg({'customer_city' : 'count'})\\\n",
    "         .rename(columns={'customer_city' : 'state'})\\\n",
    "         .describe()"
   ]
  },
  {
   "cell_type": "code",
   "execution_count": 7,
   "metadata": {},
   "outputs": [
    {
     "data": {
      "text/html": [
       "<div>\n",
       "<style scoped>\n",
       "    .dataframe tbody tr th:only-of-type {\n",
       "        vertical-align: middle;\n",
       "    }\n",
       "\n",
       "    .dataframe tbody tr th {\n",
       "        vertical-align: top;\n",
       "    }\n",
       "\n",
       "    .dataframe thead th {\n",
       "        text-align: right;\n",
       "    }\n",
       "</style>\n",
       "<table border=\"1\" class=\"dataframe\">\n",
       "  <thead>\n",
       "    <tr style=\"text-align: right;\">\n",
       "      <th></th>\n",
       "      <th>city</th>\n",
       "    </tr>\n",
       "  </thead>\n",
       "  <tbody>\n",
       "    <tr>\n",
       "      <th>count</th>\n",
       "      <td>4119.000000</td>\n",
       "    </tr>\n",
       "    <tr>\n",
       "      <th>mean</th>\n",
       "      <td>24.142025</td>\n",
       "    </tr>\n",
       "    <tr>\n",
       "      <th>std</th>\n",
       "      <td>279.272382</td>\n",
       "    </tr>\n",
       "    <tr>\n",
       "      <th>min</th>\n",
       "      <td>1.000000</td>\n",
       "    </tr>\n",
       "    <tr>\n",
       "      <th>25%</th>\n",
       "      <td>1.000000</td>\n",
       "    </tr>\n",
       "    <tr>\n",
       "      <th>50%</th>\n",
       "      <td>3.000000</td>\n",
       "    </tr>\n",
       "    <tr>\n",
       "      <th>75%</th>\n",
       "      <td>9.000000</td>\n",
       "    </tr>\n",
       "    <tr>\n",
       "      <th>max</th>\n",
       "      <td>15540.000000</td>\n",
       "    </tr>\n",
       "  </tbody>\n",
       "</table>\n",
       "</div>"
      ],
      "text/plain": [
       "               city\n",
       "count   4119.000000\n",
       "mean      24.142025\n",
       "std      279.272382\n",
       "min        1.000000\n",
       "25%        1.000000\n",
       "50%        3.000000\n",
       "75%        9.000000\n",
       "max    15540.000000"
      ]
     },
     "execution_count": 7,
     "metadata": {},
     "output_type": "execute_result"
    }
   ],
   "source": [
    "#распределение пользователей по городам customer_city        \n",
    "customers.groupby('customer_city').agg({'customer_state' : 'count'})\\\n",
    "         .rename(columns={'customer_state' : 'city'})\\\n",
    "         .describe()"
   ]
  },
  {
   "cell_type": "markdown",
   "metadata": {},
   "source": [
    "#### Таблица заказов orders"
   ]
  },
  {
   "cell_type": "code",
   "execution_count": 8,
   "metadata": {},
   "outputs": [
    {
     "data": {
      "text/html": [
       "<div>\n",
       "<style scoped>\n",
       "    .dataframe tbody tr th:only-of-type {\n",
       "        vertical-align: middle;\n",
       "    }\n",
       "\n",
       "    .dataframe tbody tr th {\n",
       "        vertical-align: top;\n",
       "    }\n",
       "\n",
       "    .dataframe thead th {\n",
       "        text-align: right;\n",
       "    }\n",
       "</style>\n",
       "<table border=\"1\" class=\"dataframe\">\n",
       "  <thead>\n",
       "    <tr style=\"text-align: right;\">\n",
       "      <th></th>\n",
       "      <th>order_id</th>\n",
       "      <th>customer_id</th>\n",
       "      <th>order_status</th>\n",
       "      <th>order_purchase_timestamp</th>\n",
       "      <th>order_approved_at</th>\n",
       "      <th>order_delivered_carrier_date</th>\n",
       "      <th>order_delivered_customer_date</th>\n",
       "      <th>order_estimated_delivery_date</th>\n",
       "    </tr>\n",
       "  </thead>\n",
       "  <tbody>\n",
       "    <tr>\n",
       "      <th>0</th>\n",
       "      <td>e481f51cbdc54678b7cc49136f2d6af7</td>\n",
       "      <td>9ef432eb6251297304e76186b10a928d</td>\n",
       "      <td>delivered</td>\n",
       "      <td>2017-10-02 10:56:33</td>\n",
       "      <td>2017-10-02 11:07:15</td>\n",
       "      <td>2017-10-04 19:55:00</td>\n",
       "      <td>2017-10-10 21:25:13</td>\n",
       "      <td>2017-10-18 00:00:00</td>\n",
       "    </tr>\n",
       "    <tr>\n",
       "      <th>1</th>\n",
       "      <td>53cdb2fc8bc7dce0b6741e2150273451</td>\n",
       "      <td>b0830fb4747a6c6d20dea0b8c802d7ef</td>\n",
       "      <td>delivered</td>\n",
       "      <td>2018-07-24 20:41:37</td>\n",
       "      <td>2018-07-26 03:24:27</td>\n",
       "      <td>2018-07-26 14:31:00</td>\n",
       "      <td>2018-08-07 15:27:45</td>\n",
       "      <td>2018-08-13 00:00:00</td>\n",
       "    </tr>\n",
       "    <tr>\n",
       "      <th>2</th>\n",
       "      <td>47770eb9100c2d0c44946d9cf07ec65d</td>\n",
       "      <td>41ce2a54c0b03bf3443c3d931a367089</td>\n",
       "      <td>delivered</td>\n",
       "      <td>2018-08-08 08:38:49</td>\n",
       "      <td>2018-08-08 08:55:23</td>\n",
       "      <td>2018-08-08 13:50:00</td>\n",
       "      <td>2018-08-17 18:06:29</td>\n",
       "      <td>2018-09-04 00:00:00</td>\n",
       "    </tr>\n",
       "  </tbody>\n",
       "</table>\n",
       "</div>"
      ],
      "text/plain": [
       "                           order_id                       customer_id  \\\n",
       "0  e481f51cbdc54678b7cc49136f2d6af7  9ef432eb6251297304e76186b10a928d   \n",
       "1  53cdb2fc8bc7dce0b6741e2150273451  b0830fb4747a6c6d20dea0b8c802d7ef   \n",
       "2  47770eb9100c2d0c44946d9cf07ec65d  41ce2a54c0b03bf3443c3d931a367089   \n",
       "\n",
       "  order_status order_purchase_timestamp    order_approved_at  \\\n",
       "0    delivered      2017-10-02 10:56:33  2017-10-02 11:07:15   \n",
       "1    delivered      2018-07-24 20:41:37  2018-07-26 03:24:27   \n",
       "2    delivered      2018-08-08 08:38:49  2018-08-08 08:55:23   \n",
       "\n",
       "  order_delivered_carrier_date order_delivered_customer_date  \\\n",
       "0          2017-10-04 19:55:00           2017-10-10 21:25:13   \n",
       "1          2018-07-26 14:31:00           2018-08-07 15:27:45   \n",
       "2          2018-08-08 13:50:00           2018-08-17 18:06:29   \n",
       "\n",
       "  order_estimated_delivery_date  \n",
       "0           2017-10-18 00:00:00  \n",
       "1           2018-08-13 00:00:00  \n",
       "2           2018-09-04 00:00:00  "
      ]
     },
     "execution_count": 8,
     "metadata": {},
     "output_type": "execute_result"
    }
   ],
   "source": [
    "orders.head(3)"
   ]
  },
  {
   "cell_type": "markdown",
   "metadata": {},
   "source": [
    "- order_id —  уникальный идентификатор заказа (номер чека)\n",
    "- customer_id —  позаказный идентификатор пользователя (аналог номера паспорта)\n",
    "- order_status —  статус заказа\n",
    "    - created —  создан\n",
    "    - approved —  подтверждён\n",
    "    - invoiced —  выставлен счёт\n",
    "    - processing —  в процессе сборки заказа\n",
    "    - shipped —  отгружен со склада\n",
    "    - delivered —  доставлен пользователю\n",
    "    - unavailable —  недоступен\n",
    "    - canceled —  отменён\n",
    "- order_purchase_timestamp —  время создания заказа\n",
    "- order_approved_at —  время подтверждения оплаты заказа\n",
    "- order_delivered_carrier_date —  время передачи заказа в логистическую службу\n",
    "- order_delivered_customer_date —  время доставки заказа\n",
    "- order_estimated_delivery_date —  обещанная дата доставки"
   ]
  },
  {
   "cell_type": "code",
   "execution_count": 9,
   "metadata": {},
   "outputs": [
    {
     "name": "stdout",
     "output_type": "stream",
     "text": [
      "<class 'pandas.core.frame.DataFrame'>\n",
      "RangeIndex: 99441 entries, 0 to 99440\n",
      "Data columns (total 8 columns):\n",
      " #   Column                         Non-Null Count  Dtype \n",
      "---  ------                         --------------  ----- \n",
      " 0   order_id                       99441 non-null  object\n",
      " 1   customer_id                    99441 non-null  object\n",
      " 2   order_status                   99441 non-null  object\n",
      " 3   order_purchase_timestamp       99441 non-null  object\n",
      " 4   order_approved_at              99281 non-null  object\n",
      " 5   order_delivered_carrier_date   97658 non-null  object\n",
      " 6   order_delivered_customer_date  96476 non-null  object\n",
      " 7   order_estimated_delivery_date  99441 non-null  object\n",
      "dtypes: object(8)\n",
      "memory usage: 6.1+ MB\n"
     ]
    }
   ],
   "source": [
    "orders.info()"
   ]
  },
  {
   "cell_type": "code",
   "execution_count": 10,
   "metadata": {},
   "outputs": [],
   "source": [
    "#конвертируем формат в datetime\n",
    "orders.order_purchase_timestamp = pd.to_datetime(orders.order_purchase_timestamp)\n",
    "orders.order_approved_at = pd.to_datetime(orders.order_approved_at)\n",
    "orders.order_delivered_carrier_date = pd.to_datetime(orders.order_delivered_carrier_date)\n",
    "orders.order_delivered_customer_date = pd.to_datetime(orders.order_delivered_customer_date)\n",
    "orders.order_estimated_delivery_date = pd.to_datetime(orders.order_estimated_delivery_date)"
   ]
  },
  {
   "cell_type": "code",
   "execution_count": 11,
   "metadata": {},
   "outputs": [
    {
     "data": {
      "text/plain": [
       "order_id                         99441\n",
       "customer_id                      99441\n",
       "order_status                         8\n",
       "order_purchase_timestamp         98875\n",
       "order_approved_at                90733\n",
       "order_delivered_carrier_date     81018\n",
       "order_delivered_customer_date    95664\n",
       "order_estimated_delivery_date      459\n",
       "dtype: int64"
      ]
     },
     "execution_count": 11,
     "metadata": {},
     "output_type": "execute_result"
    }
   ],
   "source": [
    "orders.nunique()"
   ]
  },
  {
   "cell_type": "code",
   "execution_count": 12,
   "metadata": {},
   "outputs": [
    {
     "data": {
      "text/html": [
       "<div>\n",
       "<style scoped>\n",
       "    .dataframe tbody tr th:only-of-type {\n",
       "        vertical-align: middle;\n",
       "    }\n",
       "\n",
       "    .dataframe tbody tr th {\n",
       "        vertical-align: top;\n",
       "    }\n",
       "\n",
       "    .dataframe thead th {\n",
       "        text-align: right;\n",
       "    }\n",
       "</style>\n",
       "<table border=\"1\" class=\"dataframe\">\n",
       "  <thead>\n",
       "    <tr style=\"text-align: right;\">\n",
       "      <th></th>\n",
       "      <th>order_status</th>\n",
       "      <th>orders</th>\n",
       "    </tr>\n",
       "  </thead>\n",
       "  <tbody>\n",
       "    <tr>\n",
       "      <th>0</th>\n",
       "      <td>approved</td>\n",
       "      <td>2</td>\n",
       "    </tr>\n",
       "    <tr>\n",
       "      <th>1</th>\n",
       "      <td>canceled</td>\n",
       "      <td>625</td>\n",
       "    </tr>\n",
       "    <tr>\n",
       "      <th>2</th>\n",
       "      <td>created</td>\n",
       "      <td>5</td>\n",
       "    </tr>\n",
       "    <tr>\n",
       "      <th>3</th>\n",
       "      <td>delivered</td>\n",
       "      <td>96478</td>\n",
       "    </tr>\n",
       "    <tr>\n",
       "      <th>4</th>\n",
       "      <td>invoiced</td>\n",
       "      <td>314</td>\n",
       "    </tr>\n",
       "    <tr>\n",
       "      <th>5</th>\n",
       "      <td>processing</td>\n",
       "      <td>301</td>\n",
       "    </tr>\n",
       "    <tr>\n",
       "      <th>6</th>\n",
       "      <td>shipped</td>\n",
       "      <td>1107</td>\n",
       "    </tr>\n",
       "    <tr>\n",
       "      <th>7</th>\n",
       "      <td>unavailable</td>\n",
       "      <td>609</td>\n",
       "    </tr>\n",
       "  </tbody>\n",
       "</table>\n",
       "</div>"
      ],
      "text/plain": [
       "  order_status  orders\n",
       "0     approved       2\n",
       "1     canceled     625\n",
       "2      created       5\n",
       "3    delivered   96478\n",
       "4     invoiced     314\n",
       "5   processing     301\n",
       "6      shipped    1107\n",
       "7  unavailable     609"
      ]
     },
     "execution_count": 12,
     "metadata": {},
     "output_type": "execute_result"
    }
   ],
   "source": [
    "#количество заказов по статусам\n",
    "orders.groupby('order_status', as_index=False)\\\n",
    "      .agg({'order_id' : 'count'})\\\n",
    "      .rename(columns={'order_id' : 'orders'})"
   ]
  },
  {
   "cell_type": "markdown",
   "metadata": {},
   "source": [
    "#### Товарные позиции, входящие в заказы items"
   ]
  },
  {
   "cell_type": "code",
   "execution_count": 13,
   "metadata": {
    "scrolled": true
   },
   "outputs": [
    {
     "data": {
      "text/html": [
       "<div>\n",
       "<style scoped>\n",
       "    .dataframe tbody tr th:only-of-type {\n",
       "        vertical-align: middle;\n",
       "    }\n",
       "\n",
       "    .dataframe tbody tr th {\n",
       "        vertical-align: top;\n",
       "    }\n",
       "\n",
       "    .dataframe thead th {\n",
       "        text-align: right;\n",
       "    }\n",
       "</style>\n",
       "<table border=\"1\" class=\"dataframe\">\n",
       "  <thead>\n",
       "    <tr style=\"text-align: right;\">\n",
       "      <th></th>\n",
       "      <th>order_id</th>\n",
       "      <th>order_item_id</th>\n",
       "      <th>product_id</th>\n",
       "      <th>seller_id</th>\n",
       "      <th>shipping_limit_date</th>\n",
       "      <th>price</th>\n",
       "      <th>freight_value</th>\n",
       "    </tr>\n",
       "  </thead>\n",
       "  <tbody>\n",
       "    <tr>\n",
       "      <th>0</th>\n",
       "      <td>00010242fe8c5a6d1ba2dd792cb16214</td>\n",
       "      <td>1</td>\n",
       "      <td>4244733e06e7ecb4970a6e2683c13e61</td>\n",
       "      <td>48436dade18ac8b2bce089ec2a041202</td>\n",
       "      <td>2017-09-19 09:45:35</td>\n",
       "      <td>58.9</td>\n",
       "      <td>13.29</td>\n",
       "    </tr>\n",
       "    <tr>\n",
       "      <th>1</th>\n",
       "      <td>00018f77f2f0320c557190d7a144bdd3</td>\n",
       "      <td>1</td>\n",
       "      <td>e5f2d52b802189ee658865ca93d83a8f</td>\n",
       "      <td>dd7ddc04e1b6c2c614352b383efe2d36</td>\n",
       "      <td>2017-05-03 11:05:13</td>\n",
       "      <td>239.9</td>\n",
       "      <td>19.93</td>\n",
       "    </tr>\n",
       "    <tr>\n",
       "      <th>2</th>\n",
       "      <td>000229ec398224ef6ca0657da4fc703e</td>\n",
       "      <td>1</td>\n",
       "      <td>c777355d18b72b67abbeef9df44fd0fd</td>\n",
       "      <td>5b51032eddd242adc84c38acab88f23d</td>\n",
       "      <td>2018-01-18 14:48:30</td>\n",
       "      <td>199.0</td>\n",
       "      <td>17.87</td>\n",
       "    </tr>\n",
       "  </tbody>\n",
       "</table>\n",
       "</div>"
      ],
      "text/plain": [
       "                           order_id  order_item_id  \\\n",
       "0  00010242fe8c5a6d1ba2dd792cb16214              1   \n",
       "1  00018f77f2f0320c557190d7a144bdd3              1   \n",
       "2  000229ec398224ef6ca0657da4fc703e              1   \n",
       "\n",
       "                         product_id                         seller_id  \\\n",
       "0  4244733e06e7ecb4970a6e2683c13e61  48436dade18ac8b2bce089ec2a041202   \n",
       "1  e5f2d52b802189ee658865ca93d83a8f  dd7ddc04e1b6c2c614352b383efe2d36   \n",
       "2  c777355d18b72b67abbeef9df44fd0fd  5b51032eddd242adc84c38acab88f23d   \n",
       "\n",
       "   shipping_limit_date  price  freight_value  \n",
       "0  2017-09-19 09:45:35   58.9          13.29  \n",
       "1  2017-05-03 11:05:13  239.9          19.93  \n",
       "2  2018-01-18 14:48:30  199.0          17.87  "
      ]
     },
     "execution_count": 13,
     "metadata": {},
     "output_type": "execute_result"
    }
   ],
   "source": [
    "items.head(3)"
   ]
  },
  {
   "cell_type": "markdown",
   "metadata": {},
   "source": [
    "- order_id —  уникальный идентификатор заказа (номер чека)\n",
    "- order_item_id —  идентификатор товара внутри одного заказа\n",
    "- product_id —  ид товара (аналог штрихкода)\n",
    "- seller_id — ид производителя товара\n",
    "- shipping_limit_date —  максимальная дата доставки продавцом для передачи заказа партнеру по логистике\n",
    "- price —  цена за единицу товара\n",
    "- freight_value —  вес товара"
   ]
  },
  {
   "cell_type": "code",
   "execution_count": 14,
   "metadata": {},
   "outputs": [
    {
     "name": "stdout",
     "output_type": "stream",
     "text": [
      "<class 'pandas.core.frame.DataFrame'>\n",
      "RangeIndex: 112650 entries, 0 to 112649\n",
      "Data columns (total 7 columns):\n",
      " #   Column               Non-Null Count   Dtype  \n",
      "---  ------               --------------   -----  \n",
      " 0   order_id             112650 non-null  object \n",
      " 1   order_item_id        112650 non-null  int64  \n",
      " 2   product_id           112650 non-null  object \n",
      " 3   seller_id            112650 non-null  object \n",
      " 4   shipping_limit_date  112650 non-null  object \n",
      " 5   price                112650 non-null  float64\n",
      " 6   freight_value        112650 non-null  float64\n",
      "dtypes: float64(2), int64(1), object(4)\n",
      "memory usage: 6.0+ MB\n"
     ]
    }
   ],
   "source": [
    "items.info()"
   ]
  },
  {
   "cell_type": "code",
   "execution_count": 15,
   "metadata": {},
   "outputs": [],
   "source": [
    "#конвертируем формат в datetime\n",
    "items.shipping_limit_date = pd.to_datetime(items.shipping_limit_date)"
   ]
  },
  {
   "cell_type": "code",
   "execution_count": 16,
   "metadata": {},
   "outputs": [
    {
     "data": {
      "text/plain": [
       "order_id               98666\n",
       "order_item_id             21\n",
       "product_id             32951\n",
       "seller_id               3095\n",
       "shipping_limit_date    93318\n",
       "price                   5968\n",
       "freight_value           6999\n",
       "dtype: int64"
      ]
     },
     "execution_count": 16,
     "metadata": {},
     "output_type": "execute_result"
    }
   ],
   "source": [
    "items.nunique()"
   ]
  },
  {
   "cell_type": "markdown",
   "metadata": {},
   "source": [
    "## 1. Сколько у нас пользователей, которые совершили покупку только один раз?"
   ]
  },
  {
   "cell_type": "markdown",
   "metadata": {},
   "source": [
    "В качестве покупки будем считать именно заказ (order_id), а не товары (product_id), которые входят в этот заказ. Совершенными покупками будем считать только доставленные (присутствует информация в order_delivered_customer_date)."
   ]
  },
  {
   "cell_type": "code",
   "execution_count": 17,
   "metadata": {},
   "outputs": [
    {
     "data": {
      "text/plain": [
       "array(['delivered', 'canceled'], dtype=object)"
      ]
     },
     "execution_count": 17,
     "metadata": {},
     "output_type": "execute_result"
    }
   ],
   "source": [
    "#исключим недосталвенные заказы и посмотрим какие статусы остались\n",
    "orders.merge(customers, on='customer_id')\\\n",
    "      .fillna(0)\\\n",
    "      .query('order_delivered_customer_date != 0')\\\n",
    "      .order_status.unique()"
   ]
  },
  {
   "cell_type": "markdown",
   "metadata": {},
   "source": [
    "Так же не будем учитывать отмененные заказы, статус = canceled"
   ]
  },
  {
   "cell_type": "code",
   "execution_count": 18,
   "metadata": {},
   "outputs": [
    {
     "data": {
      "text/plain": [
       "90549"
      ]
     },
     "execution_count": 18,
     "metadata": {},
     "output_type": "execute_result"
    }
   ],
   "source": [
    "#посчитаем пользователей, которые совершили покупку (заказ, order) только один раз\n",
    "#в расчет не идут не доставленные и отмененные заказы\n",
    "orders.merge(customers, on='customer_id')\\\n",
    "      .fillna(0)\\\n",
    "      .query('order_delivered_customer_date != 0 & order_status != \"canceled\"')\\\n",
    "      .groupby('customer_unique_id')\\\n",
    "      .agg({'order_id' : 'count'})\\\n",
    "      .query('order_id == 1')\\\n",
    "      .shape[0]"
   ]
  },
  {
   "cell_type": "markdown",
   "metadata": {},
   "source": [
    "#### 90549 пользователей совершили покупку (заказ, order) только один раз. Исключены данные по недоставленным и отмененным заказам."
   ]
  },
  {
   "cell_type": "markdown",
   "metadata": {},
   "source": [
    "## 2. Сколько заказов в месяц в среднем не доставляется по разным причинам (вывести детализацию по причинам)?"
   ]
  },
  {
   "cell_type": "markdown",
   "metadata": {},
   "source": [
    "Не доставленными заказами будем считать заказы, для которых отсутствует информация о времени доставки (order_delivered_customer_date) и для которых есть информация об оплате (order_approved_at). В качестве месяца будем брать месяц обещанной доставки (order_estimated_delivery_date). В качестве причины будет выступать order_status, как информация о том, на каком этапе заказ прервался."
   ]
  },
  {
   "cell_type": "code",
   "execution_count": 19,
   "metadata": {},
   "outputs": [
    {
     "data": {
      "text/html": [
       "<div>\n",
       "<style scoped>\n",
       "    .dataframe tbody tr th:only-of-type {\n",
       "        vertical-align: middle;\n",
       "    }\n",
       "\n",
       "    .dataframe tbody tr th {\n",
       "        vertical-align: top;\n",
       "    }\n",
       "\n",
       "    .dataframe thead th {\n",
       "        text-align: right;\n",
       "    }\n",
       "</style>\n",
       "<table border=\"1\" class=\"dataframe\">\n",
       "  <thead>\n",
       "    <tr style=\"text-align: right;\">\n",
       "      <th></th>\n",
       "      <th>order_status</th>\n",
       "      <th>order_estimated_delivery_date</th>\n",
       "    </tr>\n",
       "  </thead>\n",
       "  <tbody>\n",
       "    <tr>\n",
       "      <th>6</th>\n",
       "      <td>invoiced</td>\n",
       "      <td>2017-05-09</td>\n",
       "    </tr>\n",
       "    <tr>\n",
       "      <th>44</th>\n",
       "      <td>shipped</td>\n",
       "      <td>2018-06-28</td>\n",
       "    </tr>\n",
       "    <tr>\n",
       "      <th>103</th>\n",
       "      <td>invoiced</td>\n",
       "      <td>2018-08-21</td>\n",
       "    </tr>\n",
       "  </tbody>\n",
       "</table>\n",
       "</div>"
      ],
      "text/plain": [
       "    order_status order_estimated_delivery_date\n",
       "6       invoiced                    2017-05-09\n",
       "44       shipped                    2018-06-28\n",
       "103     invoiced                    2018-08-21"
      ]
     },
     "execution_count": 19,
     "metadata": {},
     "output_type": "execute_result"
    }
   ],
   "source": [
    "#формируем датасет исходя из уловий выше и откинем все ненужные колонки\n",
    "\n",
    "not_delivered = orders.fillna(0)\\\n",
    "                      .query('order_delivered_customer_date == 0 & order_approved_at != 0')\\\n",
    "                      .drop(columns={'order_id', \n",
    "                                     'customer_id', \n",
    "                                     'order_purchase_timestamp', \n",
    "                                     'order_approved_at', \n",
    "                                     'order_delivered_carrier_date', \n",
    "                                     'order_delivered_customer_date'})\n",
    "not_delivered.head(3)"
   ]
  },
  {
   "cell_type": "code",
   "execution_count": 20,
   "metadata": {},
   "outputs": [
    {
     "data": {
      "text/html": [
       "<div>\n",
       "<style scoped>\n",
       "    .dataframe tbody tr th:only-of-type {\n",
       "        vertical-align: middle;\n",
       "    }\n",
       "\n",
       "    .dataframe tbody tr th {\n",
       "        vertical-align: top;\n",
       "    }\n",
       "\n",
       "    .dataframe thead th {\n",
       "        text-align: right;\n",
       "    }\n",
       "</style>\n",
       "<table border=\"1\" class=\"dataframe\">\n",
       "  <thead>\n",
       "    <tr style=\"text-align: right;\">\n",
       "      <th></th>\n",
       "      <th>order_status</th>\n",
       "      <th>month</th>\n",
       "    </tr>\n",
       "  </thead>\n",
       "  <tbody>\n",
       "    <tr>\n",
       "      <th>6</th>\n",
       "      <td>invoiced</td>\n",
       "      <td>2017-05</td>\n",
       "    </tr>\n",
       "    <tr>\n",
       "      <th>44</th>\n",
       "      <td>shipped</td>\n",
       "      <td>2018-06</td>\n",
       "    </tr>\n",
       "    <tr>\n",
       "      <th>103</th>\n",
       "      <td>invoiced</td>\n",
       "      <td>2018-08</td>\n",
       "    </tr>\n",
       "  </tbody>\n",
       "</table>\n",
       "</div>"
      ],
      "text/plain": [
       "    order_status    month\n",
       "6       invoiced  2017-05\n",
       "44       shipped  2018-06\n",
       "103     invoiced  2018-08"
      ]
     },
     "execution_count": 20,
     "metadata": {},
     "output_type": "execute_result"
    }
   ],
   "source": [
    "#формат времени конверттируем в год-месяц и переименуем колонку\n",
    "\n",
    "not_delivered = not_delivered.rename(columns={'order_estimated_delivery_date': 'month'})\n",
    "not_delivered.month = not_delivered.month.dt.strftime('%Y-%m')\n",
    "not_delivered.head(3)"
   ]
  },
  {
   "cell_type": "code",
   "execution_count": 21,
   "metadata": {},
   "outputs": [
    {
     "data": {
      "text/html": [
       "<div>\n",
       "<style scoped>\n",
       "    .dataframe tbody tr th:only-of-type {\n",
       "        vertical-align: middle;\n",
       "    }\n",
       "\n",
       "    .dataframe tbody tr th {\n",
       "        vertical-align: top;\n",
       "    }\n",
       "\n",
       "    .dataframe thead th {\n",
       "        text-align: right;\n",
       "    }\n",
       "</style>\n",
       "<table border=\"1\" class=\"dataframe\">\n",
       "  <thead>\n",
       "    <tr style=\"text-align: right;\">\n",
       "      <th></th>\n",
       "      <th>month</th>\n",
       "      <th>order_status</th>\n",
       "      <th>total</th>\n",
       "    </tr>\n",
       "  </thead>\n",
       "  <tbody>\n",
       "    <tr>\n",
       "      <th>0</th>\n",
       "      <td>2016-09</td>\n",
       "      <td>canceled</td>\n",
       "      <td>1</td>\n",
       "    </tr>\n",
       "    <tr>\n",
       "      <th>1</th>\n",
       "      <td>2016-10</td>\n",
       "      <td>canceled</td>\n",
       "      <td>2</td>\n",
       "    </tr>\n",
       "    <tr>\n",
       "      <th>2</th>\n",
       "      <td>2016-10</td>\n",
       "      <td>shipped</td>\n",
       "      <td>1</td>\n",
       "    </tr>\n",
       "  </tbody>\n",
       "</table>\n",
       "</div>"
      ],
      "text/plain": [
       "     month order_status  total\n",
       "0  2016-09     canceled      1\n",
       "1  2016-10     canceled      2\n",
       "2  2016-10      shipped      1"
      ]
     },
     "execution_count": 21,
     "metadata": {},
     "output_type": "execute_result"
    }
   ],
   "source": [
    "#подсчёт отмененных заказов в каждом месяце с групировкой по причинам\n",
    "\n",
    "mean_reason = not_delivered.groupby(['month', 'order_status'])\\\n",
    "                           .agg({'month':'count'})\\\n",
    "                           .rename(columns={'month': 'total'})\\\n",
    "                           .reset_index()\n",
    "mean_reason.head(3)"
   ]
  },
  {
   "cell_type": "code",
   "execution_count": 22,
   "metadata": {},
   "outputs": [
    {
     "data": {
      "text/html": [
       "<div>\n",
       "<style scoped>\n",
       "    .dataframe tbody tr th:only-of-type {\n",
       "        vertical-align: middle;\n",
       "    }\n",
       "\n",
       "    .dataframe tbody tr th {\n",
       "        vertical-align: top;\n",
       "    }\n",
       "\n",
       "    .dataframe thead th {\n",
       "        text-align: right;\n",
       "    }\n",
       "</style>\n",
       "<table border=\"1\" class=\"dataframe\">\n",
       "  <thead>\n",
       "    <tr style=\"text-align: right;\">\n",
       "      <th>order_status</th>\n",
       "      <th>month</th>\n",
       "      <th>approved</th>\n",
       "      <th>canceled</th>\n",
       "      <th>delivered</th>\n",
       "      <th>invoiced</th>\n",
       "      <th>processing</th>\n",
       "      <th>shipped</th>\n",
       "      <th>unavailable</th>\n",
       "    </tr>\n",
       "  </thead>\n",
       "  <tbody>\n",
       "    <tr>\n",
       "      <th>0</th>\n",
       "      <td>2016-09</td>\n",
       "      <td>0.0</td>\n",
       "      <td>1.0</td>\n",
       "      <td>0.0</td>\n",
       "      <td>0.0</td>\n",
       "      <td>0.0</td>\n",
       "      <td>0.0</td>\n",
       "      <td>0.0</td>\n",
       "    </tr>\n",
       "    <tr>\n",
       "      <th>1</th>\n",
       "      <td>2016-10</td>\n",
       "      <td>0.0</td>\n",
       "      <td>2.0</td>\n",
       "      <td>0.0</td>\n",
       "      <td>0.0</td>\n",
       "      <td>0.0</td>\n",
       "      <td>1.0</td>\n",
       "      <td>0.0</td>\n",
       "    </tr>\n",
       "    <tr>\n",
       "      <th>2</th>\n",
       "      <td>2016-11</td>\n",
       "      <td>0.0</td>\n",
       "      <td>5.0</td>\n",
       "      <td>0.0</td>\n",
       "      <td>9.0</td>\n",
       "      <td>0.0</td>\n",
       "      <td>1.0</td>\n",
       "      <td>5.0</td>\n",
       "    </tr>\n",
       "  </tbody>\n",
       "</table>\n",
       "</div>"
      ],
      "text/plain": [
       "order_status    month  approved  canceled  delivered  invoiced  processing  \\\n",
       "0             2016-09       0.0       1.0        0.0       0.0         0.0   \n",
       "1             2016-10       0.0       2.0        0.0       0.0         0.0   \n",
       "2             2016-11       0.0       5.0        0.0       9.0         0.0   \n",
       "\n",
       "order_status  shipped  unavailable  \n",
       "0                 0.0          0.0  \n",
       "1                 1.0          0.0  \n",
       "2                 1.0          5.0  "
      ]
     },
     "execution_count": 22,
     "metadata": {},
     "output_type": "execute_result"
    }
   ],
   "source": [
    "#развернем таблицу так, чтобы колонками был статус заказа, а строками месяц:\n",
    "\n",
    "mean_reason = mean_reason.pivot(index='month', columns='order_status', values='total')\\\n",
    "                         .fillna(0)\\\n",
    "                         .reset_index()\n",
    "mean_reason.head(3)"
   ]
  },
  {
   "cell_type": "code",
   "execution_count": 23,
   "metadata": {},
   "outputs": [
    {
     "data": {
      "text/html": [
       "<div>\n",
       "<style scoped>\n",
       "    .dataframe tbody tr th:only-of-type {\n",
       "        vertical-align: middle;\n",
       "    }\n",
       "\n",
       "    .dataframe tbody tr th {\n",
       "        vertical-align: top;\n",
       "    }\n",
       "\n",
       "    .dataframe thead th {\n",
       "        text-align: right;\n",
       "    }\n",
       "</style>\n",
       "<table border=\"1\" class=\"dataframe\">\n",
       "  <thead>\n",
       "    <tr style=\"text-align: right;\">\n",
       "      <th></th>\n",
       "      <th>order_status</th>\n",
       "      <th>monthly_mean</th>\n",
       "    </tr>\n",
       "  </thead>\n",
       "  <tbody>\n",
       "    <tr>\n",
       "      <th>0</th>\n",
       "      <td>approved</td>\n",
       "      <td>0.083333</td>\n",
       "    </tr>\n",
       "    <tr>\n",
       "      <th>1</th>\n",
       "      <td>canceled</td>\n",
       "      <td>19.916667</td>\n",
       "    </tr>\n",
       "    <tr>\n",
       "      <th>2</th>\n",
       "      <td>delivered</td>\n",
       "      <td>0.333333</td>\n",
       "    </tr>\n",
       "    <tr>\n",
       "      <th>3</th>\n",
       "      <td>invoiced</td>\n",
       "      <td>13.083333</td>\n",
       "    </tr>\n",
       "    <tr>\n",
       "      <th>4</th>\n",
       "      <td>processing</td>\n",
       "      <td>12.541667</td>\n",
       "    </tr>\n",
       "    <tr>\n",
       "      <th>5</th>\n",
       "      <td>shipped</td>\n",
       "      <td>46.125000</td>\n",
       "    </tr>\n",
       "    <tr>\n",
       "      <th>6</th>\n",
       "      <td>unavailable</td>\n",
       "      <td>25.375000</td>\n",
       "    </tr>\n",
       "  </tbody>\n",
       "</table>\n",
       "</div>"
      ],
      "text/plain": [
       "  order_status  monthly_mean\n",
       "0     approved      0.083333\n",
       "1     canceled     19.916667\n",
       "2    delivered      0.333333\n",
       "3     invoiced     13.083333\n",
       "4   processing     12.541667\n",
       "5      shipped     46.125000\n",
       "6  unavailable     25.375000"
      ]
     },
     "execution_count": 23,
     "metadata": {},
     "output_type": "execute_result"
    }
   ],
   "source": [
    "#среднее значение для каждого статуса\n",
    "\n",
    "monthly_mean_by_reason = mean_reason.mean().reset_index()\\\n",
    "                                           .rename(columns={0:'monthly_mean'})\n",
    "monthly_mean_by_reason"
   ]
  },
  {
   "cell_type": "code",
   "execution_count": 24,
   "metadata": {},
   "outputs": [
    {
     "data": {
      "text/html": [
       "<div>\n",
       "<style scoped>\n",
       "    .dataframe tbody tr th:only-of-type {\n",
       "        vertical-align: middle;\n",
       "    }\n",
       "\n",
       "    .dataframe tbody tr th {\n",
       "        vertical-align: top;\n",
       "    }\n",
       "\n",
       "    .dataframe thead th {\n",
       "        text-align: right;\n",
       "    }\n",
       "</style>\n",
       "<table border=\"1\" class=\"dataframe\">\n",
       "  <thead>\n",
       "    <tr style=\"text-align: right;\">\n",
       "      <th></th>\n",
       "      <th>order_status</th>\n",
       "      <th>monthly_mean</th>\n",
       "    </tr>\n",
       "  </thead>\n",
       "  <tbody>\n",
       "    <tr>\n",
       "      <th>0</th>\n",
       "      <td>approved</td>\n",
       "      <td>0.083333</td>\n",
       "    </tr>\n",
       "    <tr>\n",
       "      <th>3</th>\n",
       "      <td>invoiced</td>\n",
       "      <td>13.083333</td>\n",
       "    </tr>\n",
       "    <tr>\n",
       "      <th>4</th>\n",
       "      <td>processing</td>\n",
       "      <td>12.541667</td>\n",
       "    </tr>\n",
       "    <tr>\n",
       "      <th>5</th>\n",
       "      <td>shipped</td>\n",
       "      <td>46.125000</td>\n",
       "    </tr>\n",
       "    <tr>\n",
       "      <th>2</th>\n",
       "      <td>delivered</td>\n",
       "      <td>0.333333</td>\n",
       "    </tr>\n",
       "    <tr>\n",
       "      <th>6</th>\n",
       "      <td>unavailable</td>\n",
       "      <td>25.375000</td>\n",
       "    </tr>\n",
       "    <tr>\n",
       "      <th>1</th>\n",
       "      <td>canceled</td>\n",
       "      <td>19.916667</td>\n",
       "    </tr>\n",
       "  </tbody>\n",
       "</table>\n",
       "</div>"
      ],
      "text/plain": [
       "  order_status  monthly_mean\n",
       "0     approved      0.083333\n",
       "3     invoiced     13.083333\n",
       "4   processing     12.541667\n",
       "5      shipped     46.125000\n",
       "2    delivered      0.333333\n",
       "6  unavailable     25.375000\n",
       "1     canceled     19.916667"
      ]
     },
     "execution_count": 24,
     "metadata": {},
     "output_type": "execute_result"
    }
   ],
   "source": [
    "#отсортируем строки в логической последовательности статусов\n",
    "\n",
    "not_delivered_by_reason = monthly_mean_by_reason.reindex([0, 3, 4, 5, 2, 6, 1])\n",
    "not_delivered_by_reason"
   ]
  },
  {
   "cell_type": "markdown",
   "metadata": {},
   "source": [
    "#### Среднее количество не доставленных заказов в месяц с групировкой по этапам содержатся в not_delivered_by_reason\n",
    "Возможные причины для каждого статуса, из-за чего заказ не был доставлен клиенту:\n",
    "- approved —  подтверждён. Внутреняя ошибка сервиса. \n",
    "- invoiced —  выставлен счёт. Клиент не оплатил заказ. \n",
    "- processing —  в процессе сборки заказа. Заказ отсутствует на складе. \n",
    "- shipped —  отгружен со склада. Был утерян курьерской службой.\n",
    "- delivered —  доставлен пользователю. Доставлен неверный заказ. \n",
    "- unavailable —  недоступен\n",
    "- canceled —  отменён"
   ]
  },
  {
   "cell_type": "markdown",
   "metadata": {},
   "source": [
    "## 3. По каждому товару определить, в какой день недели товар чаще всего покупается. "
   ]
  },
  {
   "cell_type": "markdown",
   "metadata": {},
   "source": [
    "Решим эту задачу для двух вариантов:\n",
    "- Вариант 1: В какие то несколько дней недели количество покупок товара равны и в эти дни покупок больше, чем в другие дни (несколько max).\n",
    "- Вариант 2: В какой то один единственный день покупок товара будет больше, чем в другие дни (один max)."
   ]
  },
  {
   "cell_type": "code",
   "execution_count": 25,
   "metadata": {},
   "outputs": [
    {
     "data": {
      "text/html": [
       "<div>\n",
       "<style scoped>\n",
       "    .dataframe tbody tr th:only-of-type {\n",
       "        vertical-align: middle;\n",
       "    }\n",
       "\n",
       "    .dataframe tbody tr th {\n",
       "        vertical-align: top;\n",
       "    }\n",
       "\n",
       "    .dataframe thead th {\n",
       "        text-align: right;\n",
       "    }\n",
       "</style>\n",
       "<table border=\"1\" class=\"dataframe\">\n",
       "  <thead>\n",
       "    <tr style=\"text-align: right;\">\n",
       "      <th></th>\n",
       "      <th>product_id</th>\n",
       "      <th>week_day</th>\n",
       "      <th>counter</th>\n",
       "    </tr>\n",
       "  </thead>\n",
       "  <tbody>\n",
       "    <tr>\n",
       "      <th>0</th>\n",
       "      <td>4244733e06e7ecb4970a6e2683c13e61</td>\n",
       "      <td>Tuesday</td>\n",
       "      <td>1</td>\n",
       "    </tr>\n",
       "    <tr>\n",
       "      <th>1</th>\n",
       "      <td>e5f2d52b802189ee658865ca93d83a8f</td>\n",
       "      <td>Wednesday</td>\n",
       "      <td>1</td>\n",
       "    </tr>\n",
       "    <tr>\n",
       "      <th>2</th>\n",
       "      <td>c777355d18b72b67abbeef9df44fd0fd</td>\n",
       "      <td>Thursday</td>\n",
       "      <td>1</td>\n",
       "    </tr>\n",
       "    <tr>\n",
       "      <th>3</th>\n",
       "      <td>7634da152a4610f1595efa32f14722fc</td>\n",
       "      <td>Wednesday</td>\n",
       "      <td>1</td>\n",
       "    </tr>\n",
       "    <tr>\n",
       "      <th>4</th>\n",
       "      <td>ac6c3623068f30de03045865e4e10089</td>\n",
       "      <td>Monday</td>\n",
       "      <td>1</td>\n",
       "    </tr>\n",
       "  </tbody>\n",
       "</table>\n",
       "</div>"
      ],
      "text/plain": [
       "                         product_id   week_day  counter\n",
       "0  4244733e06e7ecb4970a6e2683c13e61    Tuesday        1\n",
       "1  e5f2d52b802189ee658865ca93d83a8f  Wednesday        1\n",
       "2  c777355d18b72b67abbeef9df44fd0fd   Thursday        1\n",
       "3  7634da152a4610f1595efa32f14722fc  Wednesday        1\n",
       "4  ac6c3623068f30de03045865e4e10089     Monday        1"
      ]
     },
     "execution_count": 25,
     "metadata": {},
     "output_type": "execute_result"
    }
   ],
   "source": [
    "#возьмем данные item (для каждого заказа детализация по продуктам) и оставим только нужную информацию\n",
    "prod_weekday = items.drop(columns={'order_id',\n",
    "                                   'order_item_id',\n",
    "                                   'seller_id',\n",
    "                                   'price',\n",
    "                                   'freight_value'})\n",
    "\n",
    "#вместо даты перезапишем день недели и переименуем колонку\n",
    "prod_weekday.shipping_limit_date = prod_weekday.shipping_limit_date.dt.day_name()\n",
    "prod_weekday = prod_weekday.rename(columns={'shipping_limit_date':'week_day'})\n",
    "prod_weekday['counter'] = 1 #счётчик для аггрегации\n",
    "prod_weekday.head()"
   ]
  },
  {
   "cell_type": "code",
   "execution_count": 26,
   "metadata": {},
   "outputs": [
    {
     "data": {
      "text/html": [
       "<div>\n",
       "<style scoped>\n",
       "    .dataframe tbody tr th:only-of-type {\n",
       "        vertical-align: middle;\n",
       "    }\n",
       "\n",
       "    .dataframe tbody tr th {\n",
       "        vertical-align: top;\n",
       "    }\n",
       "\n",
       "    .dataframe thead th {\n",
       "        text-align: right;\n",
       "    }\n",
       "</style>\n",
       "<table border=\"1\" class=\"dataframe\">\n",
       "  <thead>\n",
       "    <tr style=\"text-align: right;\">\n",
       "      <th></th>\n",
       "      <th>product_id</th>\n",
       "      <th>week_day</th>\n",
       "      <th>counter</th>\n",
       "    </tr>\n",
       "  </thead>\n",
       "  <tbody>\n",
       "    <tr>\n",
       "      <th>57079</th>\n",
       "      <td>fffe9eeff12fcbd74a2f2b007dde0c58</td>\n",
       "      <td>Friday</td>\n",
       "      <td>1</td>\n",
       "    </tr>\n",
       "    <tr>\n",
       "      <th>57075</th>\n",
       "      <td>fffdb2d0ec8d6a61f0a0a0db3f25b441</td>\n",
       "      <td>Monday</td>\n",
       "      <td>2</td>\n",
       "    </tr>\n",
       "    <tr>\n",
       "      <th>57076</th>\n",
       "      <td>fffdb2d0ec8d6a61f0a0a0db3f25b441</td>\n",
       "      <td>Thursday</td>\n",
       "      <td>1</td>\n",
       "    </tr>\n",
       "    <tr>\n",
       "      <th>57077</th>\n",
       "      <td>fffdb2d0ec8d6a61f0a0a0db3f25b441</td>\n",
       "      <td>Tuesday</td>\n",
       "      <td>1</td>\n",
       "    </tr>\n",
       "    <tr>\n",
       "      <th>57078</th>\n",
       "      <td>fffdb2d0ec8d6a61f0a0a0db3f25b441</td>\n",
       "      <td>Wednesday</td>\n",
       "      <td>1</td>\n",
       "    </tr>\n",
       "  </tbody>\n",
       "</table>\n",
       "</div>"
      ],
      "text/plain": [
       "                             product_id   week_day  counter\n",
       "57079  fffe9eeff12fcbd74a2f2b007dde0c58     Friday        1\n",
       "57075  fffdb2d0ec8d6a61f0a0a0db3f25b441     Monday        2\n",
       "57076  fffdb2d0ec8d6a61f0a0a0db3f25b441   Thursday        1\n",
       "57077  fffdb2d0ec8d6a61f0a0a0db3f25b441    Tuesday        1\n",
       "57078  fffdb2d0ec8d6a61f0a0a0db3f25b441  Wednesday        1"
      ]
     },
     "execution_count": 26,
     "metadata": {},
     "output_type": "execute_result"
    }
   ],
   "source": [
    "#посчитаем для каждого товара общее количество покупок в каждый день недели\n",
    "prod_weekday = prod_weekday.groupby(['product_id', 'week_day'], as_index=False)\\\n",
    "                           .agg({'counter': 'sum'})\\\n",
    "                           .sort_values(['product_id', 'counter'], ascending=False)\n",
    "prod_weekday.head()"
   ]
  },
  {
   "cell_type": "markdown",
   "metadata": {},
   "source": [
    "### Вариант 1: Для каждого товара определим все дни недели с максимальным количеством покупок"
   ]
  },
  {
   "cell_type": "code",
   "execution_count": 27,
   "metadata": {},
   "outputs": [
    {
     "data": {
      "text/html": [
       "<div>\n",
       "<style scoped>\n",
       "    .dataframe tbody tr th:only-of-type {\n",
       "        vertical-align: middle;\n",
       "    }\n",
       "\n",
       "    .dataframe tbody tr th {\n",
       "        vertical-align: top;\n",
       "    }\n",
       "\n",
       "    .dataframe thead th {\n",
       "        text-align: right;\n",
       "    }\n",
       "</style>\n",
       "<table border=\"1\" class=\"dataframe\">\n",
       "  <thead>\n",
       "    <tr style=\"text-align: right;\">\n",
       "      <th></th>\n",
       "      <th>product_id</th>\n",
       "      <th>day_max</th>\n",
       "    </tr>\n",
       "  </thead>\n",
       "  <tbody>\n",
       "    <tr>\n",
       "      <th>8613</th>\n",
       "      <td>422879e10f46682990de24d770e7f83d</td>\n",
       "      <td>159</td>\n",
       "    </tr>\n",
       "    <tr>\n",
       "      <th>22112</th>\n",
       "      <td>aca2eb7d00ea1a7b8ebd4e68314663af</td>\n",
       "      <td>149</td>\n",
       "    </tr>\n",
       "    <tr>\n",
       "      <th>7364</th>\n",
       "      <td>389d119b48cf3043d311335e499d9c6b</td>\n",
       "      <td>145</td>\n",
       "    </tr>\n",
       "    <tr>\n",
       "      <th>19742</th>\n",
       "      <td>99a4788cb24856965c36a24e339b6058</td>\n",
       "      <td>141</td>\n",
       "    </tr>\n",
       "    <tr>\n",
       "      <th>7079</th>\n",
       "      <td>368c6c730842d78016ad823897a372db</td>\n",
       "      <td>131</td>\n",
       "    </tr>\n",
       "  </tbody>\n",
       "</table>\n",
       "</div>"
      ],
      "text/plain": [
       "                             product_id  day_max\n",
       "8613   422879e10f46682990de24d770e7f83d      159\n",
       "22112  aca2eb7d00ea1a7b8ebd4e68314663af      149\n",
       "7364   389d119b48cf3043d311335e499d9c6b      145\n",
       "19742  99a4788cb24856965c36a24e339b6058      141\n",
       "7079   368c6c730842d78016ad823897a372db      131"
      ]
     },
     "execution_count": 27,
     "metadata": {},
     "output_type": "execute_result"
    }
   ],
   "source": [
    "#создадим датасет в который для каждого продукта запишем максимальное значение покупок в день недели\n",
    "weekday_max = prod_weekday.groupby(['product_id']).agg({'counter':'max'})\\\n",
    "                          .reset_index()\\\n",
    "                          .rename(columns={'counter':'day_max'})\n",
    "weekday_max.sort_values('day_max', ascending=False).head()"
   ]
  },
  {
   "cell_type": "code",
   "execution_count": 28,
   "metadata": {},
   "outputs": [
    {
     "data": {
      "text/html": [
       "<div>\n",
       "<style scoped>\n",
       "    .dataframe tbody tr th:only-of-type {\n",
       "        vertical-align: middle;\n",
       "    }\n",
       "\n",
       "    .dataframe tbody tr th {\n",
       "        vertical-align: top;\n",
       "    }\n",
       "\n",
       "    .dataframe thead th {\n",
       "        text-align: right;\n",
       "    }\n",
       "</style>\n",
       "<table border=\"1\" class=\"dataframe\">\n",
       "  <thead>\n",
       "    <tr style=\"text-align: right;\">\n",
       "      <th></th>\n",
       "      <th>product_id</th>\n",
       "      <th>week_day</th>\n",
       "      <th>day_max</th>\n",
       "    </tr>\n",
       "  </thead>\n",
       "  <tbody>\n",
       "    <tr>\n",
       "      <th>0</th>\n",
       "      <td>fffe9eeff12fcbd74a2f2b007dde0c58</td>\n",
       "      <td>Friday</td>\n",
       "      <td>1</td>\n",
       "    </tr>\n",
       "    <tr>\n",
       "      <th>1</th>\n",
       "      <td>fffdb2d0ec8d6a61f0a0a0db3f25b441</td>\n",
       "      <td>Monday</td>\n",
       "      <td>2</td>\n",
       "    </tr>\n",
       "    <tr>\n",
       "      <th>5</th>\n",
       "      <td>fff9553ac224cec9d15d49f5a263411f</td>\n",
       "      <td>Friday</td>\n",
       "      <td>1</td>\n",
       "    </tr>\n",
       "    <tr>\n",
       "      <th>6</th>\n",
       "      <td>fff81cc3158d2725c0655ab9ba0f712c</td>\n",
       "      <td>Friday</td>\n",
       "      <td>1</td>\n",
       "    </tr>\n",
       "    <tr>\n",
       "      <th>7</th>\n",
       "      <td>fff6177642830a9a94a0f2cba5e476d1</td>\n",
       "      <td>Monday</td>\n",
       "      <td>1</td>\n",
       "    </tr>\n",
       "  </tbody>\n",
       "</table>\n",
       "</div>"
      ],
      "text/plain": [
       "                         product_id week_day  day_max\n",
       "0  fffe9eeff12fcbd74a2f2b007dde0c58   Friday        1\n",
       "1  fffdb2d0ec8d6a61f0a0a0db3f25b441   Monday        2\n",
       "5  fff9553ac224cec9d15d49f5a263411f   Friday        1\n",
       "6  fff81cc3158d2725c0655ab9ba0f712c   Friday        1\n",
       "7  fff6177642830a9a94a0f2cba5e476d1   Monday        1"
      ]
     },
     "execution_count": 28,
     "metadata": {},
     "output_type": "execute_result"
    }
   ],
   "source": [
    "#присоеденим максимальные значения к prod_weekday\n",
    "prod_best_weekday_1 = pd.merge(prod_weekday, weekday_max, how='left', on='product_id')\n",
    "\n",
    "#оставим только те сторки, для которых значения для каждого дня равны максимальному\n",
    "prod_best_weekday_1 = prod_best_weekday_1[prod_best_weekday_1['counter'] == prod_best_weekday_1['day_max']]\n",
    "prod_best_weekday_1 = prod_best_weekday_1.drop(columns='counter')\n",
    "prod_best_weekday_1.head()"
   ]
  },
  {
   "cell_type": "markdown",
   "metadata": {},
   "source": [
    "### Вариант 2: Для каждого товара определим единственный день недели с максимальным количеством покупок"
   ]
  },
  {
   "cell_type": "code",
   "execution_count": 29,
   "metadata": {},
   "outputs": [
    {
     "data": {
      "text/html": [
       "<div>\n",
       "<style scoped>\n",
       "    .dataframe tbody tr th:only-of-type {\n",
       "        vertical-align: middle;\n",
       "    }\n",
       "\n",
       "    .dataframe tbody tr th {\n",
       "        vertical-align: top;\n",
       "    }\n",
       "\n",
       "    .dataframe thead th {\n",
       "        text-align: right;\n",
       "    }\n",
       "</style>\n",
       "<table border=\"1\" class=\"dataframe\">\n",
       "  <thead>\n",
       "    <tr style=\"text-align: right;\">\n",
       "      <th></th>\n",
       "      <th>product_id</th>\n",
       "      <th>week_day</th>\n",
       "      <th>day_max</th>\n",
       "    </tr>\n",
       "  </thead>\n",
       "  <tbody>\n",
       "    <tr>\n",
       "      <th>0</th>\n",
       "      <td>fffe9eeff12fcbd74a2f2b007dde0c58</td>\n",
       "      <td>Friday</td>\n",
       "      <td>1</td>\n",
       "    </tr>\n",
       "    <tr>\n",
       "      <th>1</th>\n",
       "      <td>fffdb2d0ec8d6a61f0a0a0db3f25b441</td>\n",
       "      <td>Monday</td>\n",
       "      <td>2</td>\n",
       "    </tr>\n",
       "    <tr>\n",
       "      <th>2</th>\n",
       "      <td>fff9553ac224cec9d15d49f5a263411f</td>\n",
       "      <td>Friday</td>\n",
       "      <td>1</td>\n",
       "    </tr>\n",
       "    <tr>\n",
       "      <th>3</th>\n",
       "      <td>fff81cc3158d2725c0655ab9ba0f712c</td>\n",
       "      <td>Friday</td>\n",
       "      <td>1</td>\n",
       "    </tr>\n",
       "    <tr>\n",
       "      <th>6</th>\n",
       "      <td>fff515ea94dbf35d54d256b3e39f0fea</td>\n",
       "      <td>Tuesday</td>\n",
       "      <td>1</td>\n",
       "    </tr>\n",
       "  </tbody>\n",
       "</table>\n",
       "</div>"
      ],
      "text/plain": [
       "                         product_id week_day  day_max\n",
       "0  fffe9eeff12fcbd74a2f2b007dde0c58   Friday        1\n",
       "1  fffdb2d0ec8d6a61f0a0a0db3f25b441   Monday        2\n",
       "2  fff9553ac224cec9d15d49f5a263411f   Friday        1\n",
       "3  fff81cc3158d2725c0655ab9ba0f712c   Friday        1\n",
       "6  fff515ea94dbf35d54d256b3e39f0fea  Tuesday        1"
      ]
     },
     "execution_count": 29,
     "metadata": {},
     "output_type": "execute_result"
    }
   ],
   "source": [
    "#для продуктов имеющих несколько дней с максимальными значениями посчитаем сумму\n",
    "filter_1 = prod_best_weekday_1.groupby(['product_id']).agg({'day_max':'sum'})\n",
    "filter_1 = filter_1.reset_index()\n",
    "filter_1 = filter_1.rename(columns={'day_max':'sum_values'})\n",
    "#присоеденим колонку с суммой к первому варианту (prod_best_weekday_1)\n",
    "prod_best_weekday_2 = pd.merge(prod_best_weekday_1, filter_1, how='left', on=['product_id'])\n",
    "#если для одного товара имеется только одно максимальное значение, то колонка week_day_max будет равна sum_values\n",
    "prod_best_weekday_2 = prod_best_weekday_2[prod_best_weekday_2['day_max'] == prod_best_weekday_2['sum_values']]\n",
    "prod_best_weekday_2 = prod_best_weekday_2.drop(columns='sum_values')\n",
    "prod_best_weekday_2.head()"
   ]
  },
  {
   "cell_type": "markdown",
   "metadata": {},
   "source": [
    "#### Теперь менеджеру Василию можно отдать два датасета:\n",
    "1. prod_best_weekday_1 - для каждого товара определены все дни недели, в которые он был куплен максимальное количество раз.\n",
    "2. prod_best_weekday_2 - для каждого товара определен только один единственный день недели, в который покупок было больше, чем в другие дни.\n",
    "\n",
    "Однако, стоит обратить внимание менеджера Василия, что для некоторых товаров максимальное число покупок в день достаточно низкое, например 1, 2 и т.д. В таких случаях можно говорить, что на самом деле товар не имеет недельной сезонности, а результаты получены случайно. \n",
    "\n",
    "Менеджеру Василию следует задать вопрос - для чего он хочет использовать эту информацию и насколько важное бизнес решение собирается принять? Если он собирается принять хоть сколько-нибудь важное решение, то действуем следующим образом:\n",
    "Наши данные это только выборка, т.к. магазин работал и будет работать за пределеами наших данных, а товары продаются и в других магазинах, поэтому:\n",
    "1. Объявим нулевую гипотезу Н0: товар в каждый день недели покупается одинаковое количество раз.\n",
    "    - наблюдаемые частоты - количество покупок товара в каждый день\n",
    "    - ожидаемые частоты - общее количество покупок товара разделить на 7 дней\n",
    "    - уровень значимости примем 0.05\n",
    "2. Для проверки Н0 будем использовать критерий Хи-квадрат Пирсона. Данный критерий рекомендуется использовать в случае когда для каждой теоретической частоты число вхождений не меньше 5. В связи с этим, удалим все товары, для которых общее число покупок менее 35 (7 дней недели х 5).\n",
    "3. Если для товара p-value больше 0.05, нулевую гипотезу не отклоняем и различия количества покупок по дням недели не считаем статистически значимым, а значит данный товар убираем из нашего финального отчета. Если p-value меньше 0.05 отклоняем нулевую гипотезу и различия считаем статистически значимыми. А если справедливо утверждение, что различия статистически значимы, значит и справедливо то, что в какой то один или несколько дней недели товар покупается чаще, чем в остальные. Иными словами, что присутствует недельная сезонность. "
   ]
  },
  {
   "cell_type": "markdown",
   "metadata": {},
   "source": [
    "## 4. Сколько у каждого из пользователей в среднем покупок в неделю (по месяцам)? \n",
    "#### Не стоит забывать, что внутри месяца может быть не целое количество недель. Например, в ноябре 2021 года 4,28 недели. И внутри метрики это нужно учесть."
   ]
  },
  {
   "cell_type": "markdown",
   "metadata": {},
   "source": [
    "Результирующий датафрейм будет выглядеть следующим образом: строки это уникальные номера пользоваталей (customer_unique_id), столбцы это временные промежутки в формате год_месяц (будет использоваться информация времени оплаты заказа order_approved_at),  значения это среднее количество заказов для пользователя в этот месяц. При этом в расчет среднего значения не должны попасть отмененные заказы (order_status = canceled в данных по заказам orders)."
   ]
  },
  {
   "cell_type": "code",
   "execution_count": 30,
   "metadata": {},
   "outputs": [
    {
     "name": "stdout",
     "output_type": "stream",
     "text": [
      "<class 'pandas.core.frame.DataFrame'>\n",
      "Int64Index: 113425 entries, 0 to 113424\n",
      "Data columns (total 18 columns):\n",
      " #   Column                         Non-Null Count   Dtype         \n",
      "---  ------                         --------------   -----         \n",
      " 0   order_id                       113425 non-null  object        \n",
      " 1   customer_id                    113425 non-null  object        \n",
      " 2   order_status                   113425 non-null  object        \n",
      " 3   order_purchase_timestamp       113425 non-null  datetime64[ns]\n",
      " 4   order_approved_at              113264 non-null  datetime64[ns]\n",
      " 5   order_delivered_carrier_date   111457 non-null  datetime64[ns]\n",
      " 6   order_delivered_customer_date  110196 non-null  datetime64[ns]\n",
      " 7   order_estimated_delivery_date  113425 non-null  datetime64[ns]\n",
      " 8   customer_unique_id             113425 non-null  object        \n",
      " 9   customer_zip_code_prefix       113425 non-null  int64         \n",
      " 10  customer_city                  113425 non-null  object        \n",
      " 11  customer_state                 113425 non-null  object        \n",
      " 12  order_item_id                  112650 non-null  float64       \n",
      " 13  product_id                     112650 non-null  object        \n",
      " 14  seller_id                      112650 non-null  object        \n",
      " 15  shipping_limit_date            112650 non-null  datetime64[ns]\n",
      " 16  price                          112650 non-null  float64       \n",
      " 17  freight_value                  112650 non-null  float64       \n",
      "dtypes: datetime64[ns](6), float64(3), int64(1), object(8)\n",
      "memory usage: 16.4+ MB\n"
     ]
    }
   ],
   "source": [
    "#для начала присоеденим к датафрейму с заказами (orders) данные по уникальным пользователям (customers)\n",
    "orders_customers = orders.merge(customers, how='outer', on='customer_id')\n",
    "#получившейся датафрейм объеденим с данными по входящими продуктами в каждый заказ (items)\n",
    "#т.к. для одной строки order_id будет соответствовать несколько товаров, способ объединения будет outer\n",
    "orders_customers_items = orders_customers.merge(items, how='outer', on='order_id')\n",
    "orders_customers_items.info()"
   ]
  },
  {
   "cell_type": "code",
   "execution_count": 31,
   "metadata": {},
   "outputs": [
    {
     "name": "stdout",
     "output_type": "stream",
     "text": [
      "<class 'pandas.core.frame.DataFrame'>\n",
      "Int64Index: 112699 entries, 0 to 113424\n",
      "Data columns (total 3 columns):\n",
      " #   Column              Non-Null Count   Dtype \n",
      "---  ------              --------------   ----- \n",
      " 0   customer_unique_id  112699 non-null  object\n",
      " 1   product_id          112699 non-null  object\n",
      " 2   order_approved_at   112699 non-null  object\n",
      "dtypes: object(3)\n",
      "memory usage: 3.4+ MB\n"
     ]
    }
   ],
   "source": [
    "#заполним нулевые значения и оставим только оплаченные (order_approved_at) и не отмененные (order_status != canceled) заказы\n",
    "orders_customers_items = orders_customers_items.fillna(0).query('order_status != \"canceled\" & order_approved_at != 0')\n",
    "#оставим только нужные колонки для дальнейшего анализа customer_id, product_id, order_approved_at\n",
    "orders_customers_items = orders_customers_items[['customer_unique_id', 'product_id', 'order_approved_at']]\n",
    "orders_customers_items.info()"
   ]
  },
  {
   "cell_type": "code",
   "execution_count": 32,
   "metadata": {},
   "outputs": [],
   "source": [
    "#переведем order_approved_at в формат времени\n",
    "orders_customers_items.order_approved_at = pd.to_datetime(orders_customers_items.order_approved_at)"
   ]
  },
  {
   "cell_type": "code",
   "execution_count": 33,
   "metadata": {},
   "outputs": [
    {
     "data": {
      "text/html": [
       "<div>\n",
       "<style scoped>\n",
       "    .dataframe tbody tr th:only-of-type {\n",
       "        vertical-align: middle;\n",
       "    }\n",
       "\n",
       "    .dataframe tbody tr th {\n",
       "        vertical-align: top;\n",
       "    }\n",
       "\n",
       "    .dataframe thead th {\n",
       "        text-align: right;\n",
       "    }\n",
       "</style>\n",
       "<table border=\"1\" class=\"dataframe\">\n",
       "  <thead>\n",
       "    <tr style=\"text-align: right;\">\n",
       "      <th></th>\n",
       "      <th>customer_unique_id</th>\n",
       "      <th>product_id</th>\n",
       "      <th>year_month</th>\n",
       "    </tr>\n",
       "  </thead>\n",
       "  <tbody>\n",
       "    <tr>\n",
       "      <th>0</th>\n",
       "      <td>7c396fd4830fd04220f754e42b4e5bff</td>\n",
       "      <td>87285b34884572647811a353c7ac498a</td>\n",
       "      <td>2017-10</td>\n",
       "    </tr>\n",
       "    <tr>\n",
       "      <th>1</th>\n",
       "      <td>af07308b275d755c9edb36a90c618231</td>\n",
       "      <td>595fac2a385ac33a80bd5114aec74eb8</td>\n",
       "      <td>2018-07</td>\n",
       "    </tr>\n",
       "    <tr>\n",
       "      <th>2</th>\n",
       "      <td>3a653a41f6f9fc3d2a113cf8398680e8</td>\n",
       "      <td>aa4383b373c6aca5d8797843e5594415</td>\n",
       "      <td>2018-08</td>\n",
       "    </tr>\n",
       "    <tr>\n",
       "      <th>3</th>\n",
       "      <td>7c142cf63193a1473d2e66489a9ae977</td>\n",
       "      <td>d0b61bfb1de832b15ba9d266ca96e5b0</td>\n",
       "      <td>2017-11</td>\n",
       "    </tr>\n",
       "    <tr>\n",
       "      <th>4</th>\n",
       "      <td>72632f0f9dd73dfee390c9b22eb56dd6</td>\n",
       "      <td>65266b2da20d04dbe00c5c2d3bb7859e</td>\n",
       "      <td>2018-02</td>\n",
       "    </tr>\n",
       "  </tbody>\n",
       "</table>\n",
       "</div>"
      ],
      "text/plain": [
       "                 customer_unique_id                        product_id  \\\n",
       "0  7c396fd4830fd04220f754e42b4e5bff  87285b34884572647811a353c7ac498a   \n",
       "1  af07308b275d755c9edb36a90c618231  595fac2a385ac33a80bd5114aec74eb8   \n",
       "2  3a653a41f6f9fc3d2a113cf8398680e8  aa4383b373c6aca5d8797843e5594415   \n",
       "3  7c142cf63193a1473d2e66489a9ae977  d0b61bfb1de832b15ba9d266ca96e5b0   \n",
       "4  72632f0f9dd73dfee390c9b22eb56dd6  65266b2da20d04dbe00c5c2d3bb7859e   \n",
       "\n",
       "  year_month  \n",
       "0    2017-10  \n",
       "1    2018-07  \n",
       "2    2018-08  \n",
       "3    2017-11  \n",
       "4    2018-02  "
      ]
     },
     "execution_count": 33,
     "metadata": {},
     "output_type": "execute_result"
    }
   ],
   "source": [
    "#теперь добавим колонку с информацией год_месяц и удалим колонку order_approved_at\n",
    "orders_customers_items['year_month'] = orders_customers_items.order_approved_at.dt.strftime('%Y-%m')\n",
    "orders_customers_items = orders_customers_items.drop(columns='order_approved_at')\n",
    "orders_customers_items.head()"
   ]
  },
  {
   "cell_type": "code",
   "execution_count": 34,
   "metadata": {},
   "outputs": [
    {
     "data": {
      "text/plain": [
       "customer_unique_id    object\n",
       "product_id            object\n",
       "year_month            object\n",
       "dtype: object"
      ]
     },
     "execution_count": 34,
     "metadata": {},
     "output_type": "execute_result"
    }
   ],
   "source": [
    "orders_customers_items.dtypes"
   ]
  },
  {
   "cell_type": "code",
   "execution_count": 35,
   "metadata": {},
   "outputs": [],
   "source": [
    "#конвертируем столбец year_month в формат даты\n",
    "orders_customers_items.year_month = pd.to_datetime(orders_customers_items.year_month)"
   ]
  },
  {
   "cell_type": "code",
   "execution_count": 36,
   "metadata": {},
   "outputs": [
    {
     "data": {
      "text/html": [
       "<div>\n",
       "<style scoped>\n",
       "    .dataframe tbody tr th:only-of-type {\n",
       "        vertical-align: middle;\n",
       "    }\n",
       "\n",
       "    .dataframe tbody tr th {\n",
       "        vertical-align: top;\n",
       "    }\n",
       "\n",
       "    .dataframe thead th {\n",
       "        text-align: right;\n",
       "    }\n",
       "</style>\n",
       "<table border=\"1\" class=\"dataframe\">\n",
       "  <thead>\n",
       "    <tr style=\"text-align: right;\">\n",
       "      <th></th>\n",
       "      <th>customer_unique_id</th>\n",
       "      <th>product_id</th>\n",
       "      <th>year_month</th>\n",
       "      <th>weeks</th>\n",
       "    </tr>\n",
       "  </thead>\n",
       "  <tbody>\n",
       "    <tr>\n",
       "      <th>0</th>\n",
       "      <td>7c396fd4830fd04220f754e42b4e5bff</td>\n",
       "      <td>87285b34884572647811a353c7ac498a</td>\n",
       "      <td>2017-10</td>\n",
       "      <td>4.428571</td>\n",
       "    </tr>\n",
       "    <tr>\n",
       "      <th>1</th>\n",
       "      <td>af07308b275d755c9edb36a90c618231</td>\n",
       "      <td>595fac2a385ac33a80bd5114aec74eb8</td>\n",
       "      <td>2018-07</td>\n",
       "      <td>4.428571</td>\n",
       "    </tr>\n",
       "    <tr>\n",
       "      <th>2</th>\n",
       "      <td>3a653a41f6f9fc3d2a113cf8398680e8</td>\n",
       "      <td>aa4383b373c6aca5d8797843e5594415</td>\n",
       "      <td>2018-08</td>\n",
       "      <td>4.428571</td>\n",
       "    </tr>\n",
       "  </tbody>\n",
       "</table>\n",
       "</div>"
      ],
      "text/plain": [
       "                 customer_unique_id                        product_id  \\\n",
       "0  7c396fd4830fd04220f754e42b4e5bff  87285b34884572647811a353c7ac498a   \n",
       "1  af07308b275d755c9edb36a90c618231  595fac2a385ac33a80bd5114aec74eb8   \n",
       "2  3a653a41f6f9fc3d2a113cf8398680e8  aa4383b373c6aca5d8797843e5594415   \n",
       "\n",
       "  year_month     weeks  \n",
       "0    2017-10  4.428571  \n",
       "1    2018-07  4.428571  \n",
       "2    2018-08  4.428571  "
      ]
     },
     "execution_count": 36,
     "metadata": {},
     "output_type": "execute_result"
    }
   ],
   "source": [
    "#создадим столбец weeks с количеством недель в месяце\n",
    "orders_customers_items['weeks'] = orders_customers_items.year_month.dt.daysinmonth / 7\n",
    "orders_customers_items.year_month = orders_customers_items.year_month.dt.strftime('%Y-%m')\n",
    "orders_customers_items.head(3)"
   ]
  },
  {
   "cell_type": "code",
   "execution_count": 37,
   "metadata": {},
   "outputs": [],
   "source": [
    "#посчитаем для каждого временного промежутка общее количество заказанных товаров и разделим на количество недель\n",
    "prod_per_week = orders_customers_items.groupby(['customer_unique_id', 'year_month', 'weeks'], as_index=False)\\\n",
    "                                      .agg({'product_id': 'count'})\n",
    "#добавим колонку среднее количество заказов в неделю по месяцам prod_per_week\n",
    "prod_per_week['prod_per_week'] = prod_per_week.product_id / prod_per_week.weeks\n",
    "#развернем таблицу так, чтобы строки = пользователи, колонки = год_месяц, значения = среднее количество задаказов в неделю\n",
    "avg_products_per_week = prod_per_week.pivot(index='customer_unique_id', \n",
    "                                            columns='year_month', \n",
    "                                            values='prod_per_week')\\\n",
    "                                     .fillna(0)"
   ]
  },
  {
   "cell_type": "code",
   "execution_count": 38,
   "metadata": {},
   "outputs": [
    {
     "data": {
      "text/html": [
       "<div>\n",
       "<style scoped>\n",
       "    .dataframe tbody tr th:only-of-type {\n",
       "        vertical-align: middle;\n",
       "    }\n",
       "\n",
       "    .dataframe tbody tr th {\n",
       "        vertical-align: top;\n",
       "    }\n",
       "\n",
       "    .dataframe thead th {\n",
       "        text-align: right;\n",
       "    }\n",
       "</style>\n",
       "<table border=\"1\" class=\"dataframe\">\n",
       "  <thead>\n",
       "    <tr style=\"text-align: right;\">\n",
       "      <th>year_month</th>\n",
       "      <th>2016-09</th>\n",
       "      <th>2016-10</th>\n",
       "      <th>2016-12</th>\n",
       "      <th>2017-01</th>\n",
       "      <th>2017-02</th>\n",
       "      <th>2017-03</th>\n",
       "      <th>2017-04</th>\n",
       "      <th>2017-05</th>\n",
       "      <th>2017-06</th>\n",
       "      <th>2017-07</th>\n",
       "      <th>...</th>\n",
       "      <th>2017-12</th>\n",
       "      <th>2018-01</th>\n",
       "      <th>2018-02</th>\n",
       "      <th>2018-03</th>\n",
       "      <th>2018-04</th>\n",
       "      <th>2018-05</th>\n",
       "      <th>2018-06</th>\n",
       "      <th>2018-07</th>\n",
       "      <th>2018-08</th>\n",
       "      <th>2018-09</th>\n",
       "    </tr>\n",
       "    <tr>\n",
       "      <th>customer_unique_id</th>\n",
       "      <th></th>\n",
       "      <th></th>\n",
       "      <th></th>\n",
       "      <th></th>\n",
       "      <th></th>\n",
       "      <th></th>\n",
       "      <th></th>\n",
       "      <th></th>\n",
       "      <th></th>\n",
       "      <th></th>\n",
       "      <th></th>\n",
       "      <th></th>\n",
       "      <th></th>\n",
       "      <th></th>\n",
       "      <th></th>\n",
       "      <th></th>\n",
       "      <th></th>\n",
       "      <th></th>\n",
       "      <th></th>\n",
       "      <th></th>\n",
       "      <th></th>\n",
       "    </tr>\n",
       "  </thead>\n",
       "  <tbody>\n",
       "    <tr>\n",
       "      <th>0000366f3b9a7992bf8c76cfdf3221e2</th>\n",
       "      <td>0.0</td>\n",
       "      <td>0.0</td>\n",
       "      <td>0.0</td>\n",
       "      <td>0.0</td>\n",
       "      <td>0.00</td>\n",
       "      <td>0.000000</td>\n",
       "      <td>0.0</td>\n",
       "      <td>0.000000</td>\n",
       "      <td>0.000000</td>\n",
       "      <td>0.0</td>\n",
       "      <td>...</td>\n",
       "      <td>0.000000</td>\n",
       "      <td>0.0</td>\n",
       "      <td>0.0</td>\n",
       "      <td>0.0</td>\n",
       "      <td>0.0</td>\n",
       "      <td>0.225806</td>\n",
       "      <td>0.0</td>\n",
       "      <td>0.0</td>\n",
       "      <td>0.0</td>\n",
       "      <td>0.0</td>\n",
       "    </tr>\n",
       "    <tr>\n",
       "      <th>0000b849f77a49e4a4ce2b2a4ca5be3f</th>\n",
       "      <td>0.0</td>\n",
       "      <td>0.0</td>\n",
       "      <td>0.0</td>\n",
       "      <td>0.0</td>\n",
       "      <td>0.00</td>\n",
       "      <td>0.000000</td>\n",
       "      <td>0.0</td>\n",
       "      <td>0.000000</td>\n",
       "      <td>0.000000</td>\n",
       "      <td>0.0</td>\n",
       "      <td>...</td>\n",
       "      <td>0.000000</td>\n",
       "      <td>0.0</td>\n",
       "      <td>0.0</td>\n",
       "      <td>0.0</td>\n",
       "      <td>0.0</td>\n",
       "      <td>0.225806</td>\n",
       "      <td>0.0</td>\n",
       "      <td>0.0</td>\n",
       "      <td>0.0</td>\n",
       "      <td>0.0</td>\n",
       "    </tr>\n",
       "    <tr>\n",
       "      <th>0000f46a3911fa3c0805444483337064</th>\n",
       "      <td>0.0</td>\n",
       "      <td>0.0</td>\n",
       "      <td>0.0</td>\n",
       "      <td>0.0</td>\n",
       "      <td>0.00</td>\n",
       "      <td>0.225806</td>\n",
       "      <td>0.0</td>\n",
       "      <td>0.000000</td>\n",
       "      <td>0.000000</td>\n",
       "      <td>0.0</td>\n",
       "      <td>...</td>\n",
       "      <td>0.000000</td>\n",
       "      <td>0.0</td>\n",
       "      <td>0.0</td>\n",
       "      <td>0.0</td>\n",
       "      <td>0.0</td>\n",
       "      <td>0.000000</td>\n",
       "      <td>0.0</td>\n",
       "      <td>0.0</td>\n",
       "      <td>0.0</td>\n",
       "      <td>0.0</td>\n",
       "    </tr>\n",
       "    <tr>\n",
       "      <th>0000f6ccb0745a6a4b88665a16c9f078</th>\n",
       "      <td>0.0</td>\n",
       "      <td>0.0</td>\n",
       "      <td>0.0</td>\n",
       "      <td>0.0</td>\n",
       "      <td>0.00</td>\n",
       "      <td>0.000000</td>\n",
       "      <td>0.0</td>\n",
       "      <td>0.000000</td>\n",
       "      <td>0.000000</td>\n",
       "      <td>0.0</td>\n",
       "      <td>...</td>\n",
       "      <td>0.000000</td>\n",
       "      <td>0.0</td>\n",
       "      <td>0.0</td>\n",
       "      <td>0.0</td>\n",
       "      <td>0.0</td>\n",
       "      <td>0.000000</td>\n",
       "      <td>0.0</td>\n",
       "      <td>0.0</td>\n",
       "      <td>0.0</td>\n",
       "      <td>0.0</td>\n",
       "    </tr>\n",
       "    <tr>\n",
       "      <th>0004aac84e0df4da2b147fca70cf8255</th>\n",
       "      <td>0.0</td>\n",
       "      <td>0.0</td>\n",
       "      <td>0.0</td>\n",
       "      <td>0.0</td>\n",
       "      <td>0.00</td>\n",
       "      <td>0.000000</td>\n",
       "      <td>0.0</td>\n",
       "      <td>0.000000</td>\n",
       "      <td>0.000000</td>\n",
       "      <td>0.0</td>\n",
       "      <td>...</td>\n",
       "      <td>0.000000</td>\n",
       "      <td>0.0</td>\n",
       "      <td>0.0</td>\n",
       "      <td>0.0</td>\n",
       "      <td>0.0</td>\n",
       "      <td>0.000000</td>\n",
       "      <td>0.0</td>\n",
       "      <td>0.0</td>\n",
       "      <td>0.0</td>\n",
       "      <td>0.0</td>\n",
       "    </tr>\n",
       "    <tr>\n",
       "      <th>...</th>\n",
       "      <td>...</td>\n",
       "      <td>...</td>\n",
       "      <td>...</td>\n",
       "      <td>...</td>\n",
       "      <td>...</td>\n",
       "      <td>...</td>\n",
       "      <td>...</td>\n",
       "      <td>...</td>\n",
       "      <td>...</td>\n",
       "      <td>...</td>\n",
       "      <td>...</td>\n",
       "      <td>...</td>\n",
       "      <td>...</td>\n",
       "      <td>...</td>\n",
       "      <td>...</td>\n",
       "      <td>...</td>\n",
       "      <td>...</td>\n",
       "      <td>...</td>\n",
       "      <td>...</td>\n",
       "      <td>...</td>\n",
       "      <td>...</td>\n",
       "    </tr>\n",
       "    <tr>\n",
       "      <th>fffcf5a5ff07b0908bd4e2dbc735a684</th>\n",
       "      <td>0.0</td>\n",
       "      <td>0.0</td>\n",
       "      <td>0.0</td>\n",
       "      <td>0.0</td>\n",
       "      <td>0.00</td>\n",
       "      <td>0.000000</td>\n",
       "      <td>0.0</td>\n",
       "      <td>0.000000</td>\n",
       "      <td>0.466667</td>\n",
       "      <td>0.0</td>\n",
       "      <td>...</td>\n",
       "      <td>0.000000</td>\n",
       "      <td>0.0</td>\n",
       "      <td>0.0</td>\n",
       "      <td>0.0</td>\n",
       "      <td>0.0</td>\n",
       "      <td>0.000000</td>\n",
       "      <td>0.0</td>\n",
       "      <td>0.0</td>\n",
       "      <td>0.0</td>\n",
       "      <td>0.0</td>\n",
       "    </tr>\n",
       "    <tr>\n",
       "      <th>fffea47cd6d3cc0a88bd621562a9d061</th>\n",
       "      <td>0.0</td>\n",
       "      <td>0.0</td>\n",
       "      <td>0.0</td>\n",
       "      <td>0.0</td>\n",
       "      <td>0.00</td>\n",
       "      <td>0.000000</td>\n",
       "      <td>0.0</td>\n",
       "      <td>0.000000</td>\n",
       "      <td>0.000000</td>\n",
       "      <td>0.0</td>\n",
       "      <td>...</td>\n",
       "      <td>0.225806</td>\n",
       "      <td>0.0</td>\n",
       "      <td>0.0</td>\n",
       "      <td>0.0</td>\n",
       "      <td>0.0</td>\n",
       "      <td>0.000000</td>\n",
       "      <td>0.0</td>\n",
       "      <td>0.0</td>\n",
       "      <td>0.0</td>\n",
       "      <td>0.0</td>\n",
       "    </tr>\n",
       "    <tr>\n",
       "      <th>ffff371b4d645b6ecea244b27531430a</th>\n",
       "      <td>0.0</td>\n",
       "      <td>0.0</td>\n",
       "      <td>0.0</td>\n",
       "      <td>0.0</td>\n",
       "      <td>0.25</td>\n",
       "      <td>0.000000</td>\n",
       "      <td>0.0</td>\n",
       "      <td>0.000000</td>\n",
       "      <td>0.000000</td>\n",
       "      <td>0.0</td>\n",
       "      <td>...</td>\n",
       "      <td>0.000000</td>\n",
       "      <td>0.0</td>\n",
       "      <td>0.0</td>\n",
       "      <td>0.0</td>\n",
       "      <td>0.0</td>\n",
       "      <td>0.000000</td>\n",
       "      <td>0.0</td>\n",
       "      <td>0.0</td>\n",
       "      <td>0.0</td>\n",
       "      <td>0.0</td>\n",
       "    </tr>\n",
       "    <tr>\n",
       "      <th>ffff5962728ec6157033ef9805bacc48</th>\n",
       "      <td>0.0</td>\n",
       "      <td>0.0</td>\n",
       "      <td>0.0</td>\n",
       "      <td>0.0</td>\n",
       "      <td>0.00</td>\n",
       "      <td>0.000000</td>\n",
       "      <td>0.0</td>\n",
       "      <td>0.000000</td>\n",
       "      <td>0.000000</td>\n",
       "      <td>0.0</td>\n",
       "      <td>...</td>\n",
       "      <td>0.000000</td>\n",
       "      <td>0.0</td>\n",
       "      <td>0.0</td>\n",
       "      <td>0.0</td>\n",
       "      <td>0.0</td>\n",
       "      <td>0.225806</td>\n",
       "      <td>0.0</td>\n",
       "      <td>0.0</td>\n",
       "      <td>0.0</td>\n",
       "      <td>0.0</td>\n",
       "    </tr>\n",
       "    <tr>\n",
       "      <th>ffffd2657e2aad2907e67c3e9daecbeb</th>\n",
       "      <td>0.0</td>\n",
       "      <td>0.0</td>\n",
       "      <td>0.0</td>\n",
       "      <td>0.0</td>\n",
       "      <td>0.00</td>\n",
       "      <td>0.000000</td>\n",
       "      <td>0.0</td>\n",
       "      <td>0.225806</td>\n",
       "      <td>0.000000</td>\n",
       "      <td>0.0</td>\n",
       "      <td>...</td>\n",
       "      <td>0.000000</td>\n",
       "      <td>0.0</td>\n",
       "      <td>0.0</td>\n",
       "      <td>0.0</td>\n",
       "      <td>0.0</td>\n",
       "      <td>0.000000</td>\n",
       "      <td>0.0</td>\n",
       "      <td>0.0</td>\n",
       "      <td>0.0</td>\n",
       "      <td>0.0</td>\n",
       "    </tr>\n",
       "  </tbody>\n",
       "</table>\n",
       "<p>95543 rows × 24 columns</p>\n",
       "</div>"
      ],
      "text/plain": [
       "year_month                        2016-09  2016-10  2016-12  2017-01  2017-02  \\\n",
       "customer_unique_id                                                              \n",
       "0000366f3b9a7992bf8c76cfdf3221e2      0.0      0.0      0.0      0.0     0.00   \n",
       "0000b849f77a49e4a4ce2b2a4ca5be3f      0.0      0.0      0.0      0.0     0.00   \n",
       "0000f46a3911fa3c0805444483337064      0.0      0.0      0.0      0.0     0.00   \n",
       "0000f6ccb0745a6a4b88665a16c9f078      0.0      0.0      0.0      0.0     0.00   \n",
       "0004aac84e0df4da2b147fca70cf8255      0.0      0.0      0.0      0.0     0.00   \n",
       "...                                   ...      ...      ...      ...      ...   \n",
       "fffcf5a5ff07b0908bd4e2dbc735a684      0.0      0.0      0.0      0.0     0.00   \n",
       "fffea47cd6d3cc0a88bd621562a9d061      0.0      0.0      0.0      0.0     0.00   \n",
       "ffff371b4d645b6ecea244b27531430a      0.0      0.0      0.0      0.0     0.25   \n",
       "ffff5962728ec6157033ef9805bacc48      0.0      0.0      0.0      0.0     0.00   \n",
       "ffffd2657e2aad2907e67c3e9daecbeb      0.0      0.0      0.0      0.0     0.00   \n",
       "\n",
       "year_month                         2017-03  2017-04   2017-05   2017-06  \\\n",
       "customer_unique_id                                                        \n",
       "0000366f3b9a7992bf8c76cfdf3221e2  0.000000      0.0  0.000000  0.000000   \n",
       "0000b849f77a49e4a4ce2b2a4ca5be3f  0.000000      0.0  0.000000  0.000000   \n",
       "0000f46a3911fa3c0805444483337064  0.225806      0.0  0.000000  0.000000   \n",
       "0000f6ccb0745a6a4b88665a16c9f078  0.000000      0.0  0.000000  0.000000   \n",
       "0004aac84e0df4da2b147fca70cf8255  0.000000      0.0  0.000000  0.000000   \n",
       "...                                    ...      ...       ...       ...   \n",
       "fffcf5a5ff07b0908bd4e2dbc735a684  0.000000      0.0  0.000000  0.466667   \n",
       "fffea47cd6d3cc0a88bd621562a9d061  0.000000      0.0  0.000000  0.000000   \n",
       "ffff371b4d645b6ecea244b27531430a  0.000000      0.0  0.000000  0.000000   \n",
       "ffff5962728ec6157033ef9805bacc48  0.000000      0.0  0.000000  0.000000   \n",
       "ffffd2657e2aad2907e67c3e9daecbeb  0.000000      0.0  0.225806  0.000000   \n",
       "\n",
       "year_month                        2017-07  ...   2017-12  2018-01  2018-02  \\\n",
       "customer_unique_id                         ...                               \n",
       "0000366f3b9a7992bf8c76cfdf3221e2      0.0  ...  0.000000      0.0      0.0   \n",
       "0000b849f77a49e4a4ce2b2a4ca5be3f      0.0  ...  0.000000      0.0      0.0   \n",
       "0000f46a3911fa3c0805444483337064      0.0  ...  0.000000      0.0      0.0   \n",
       "0000f6ccb0745a6a4b88665a16c9f078      0.0  ...  0.000000      0.0      0.0   \n",
       "0004aac84e0df4da2b147fca70cf8255      0.0  ...  0.000000      0.0      0.0   \n",
       "...                                   ...  ...       ...      ...      ...   \n",
       "fffcf5a5ff07b0908bd4e2dbc735a684      0.0  ...  0.000000      0.0      0.0   \n",
       "fffea47cd6d3cc0a88bd621562a9d061      0.0  ...  0.225806      0.0      0.0   \n",
       "ffff371b4d645b6ecea244b27531430a      0.0  ...  0.000000      0.0      0.0   \n",
       "ffff5962728ec6157033ef9805bacc48      0.0  ...  0.000000      0.0      0.0   \n",
       "ffffd2657e2aad2907e67c3e9daecbeb      0.0  ...  0.000000      0.0      0.0   \n",
       "\n",
       "year_month                        2018-03  2018-04   2018-05  2018-06  \\\n",
       "customer_unique_id                                                      \n",
       "0000366f3b9a7992bf8c76cfdf3221e2      0.0      0.0  0.225806      0.0   \n",
       "0000b849f77a49e4a4ce2b2a4ca5be3f      0.0      0.0  0.225806      0.0   \n",
       "0000f46a3911fa3c0805444483337064      0.0      0.0  0.000000      0.0   \n",
       "0000f6ccb0745a6a4b88665a16c9f078      0.0      0.0  0.000000      0.0   \n",
       "0004aac84e0df4da2b147fca70cf8255      0.0      0.0  0.000000      0.0   \n",
       "...                                   ...      ...       ...      ...   \n",
       "fffcf5a5ff07b0908bd4e2dbc735a684      0.0      0.0  0.000000      0.0   \n",
       "fffea47cd6d3cc0a88bd621562a9d061      0.0      0.0  0.000000      0.0   \n",
       "ffff371b4d645b6ecea244b27531430a      0.0      0.0  0.000000      0.0   \n",
       "ffff5962728ec6157033ef9805bacc48      0.0      0.0  0.225806      0.0   \n",
       "ffffd2657e2aad2907e67c3e9daecbeb      0.0      0.0  0.000000      0.0   \n",
       "\n",
       "year_month                        2018-07  2018-08  2018-09  \n",
       "customer_unique_id                                           \n",
       "0000366f3b9a7992bf8c76cfdf3221e2      0.0      0.0      0.0  \n",
       "0000b849f77a49e4a4ce2b2a4ca5be3f      0.0      0.0      0.0  \n",
       "0000f46a3911fa3c0805444483337064      0.0      0.0      0.0  \n",
       "0000f6ccb0745a6a4b88665a16c9f078      0.0      0.0      0.0  \n",
       "0004aac84e0df4da2b147fca70cf8255      0.0      0.0      0.0  \n",
       "...                                   ...      ...      ...  \n",
       "fffcf5a5ff07b0908bd4e2dbc735a684      0.0      0.0      0.0  \n",
       "fffea47cd6d3cc0a88bd621562a9d061      0.0      0.0      0.0  \n",
       "ffff371b4d645b6ecea244b27531430a      0.0      0.0      0.0  \n",
       "ffff5962728ec6157033ef9805bacc48      0.0      0.0      0.0  \n",
       "ffffd2657e2aad2907e67c3e9daecbeb      0.0      0.0      0.0  \n",
       "\n",
       "[95543 rows x 24 columns]"
      ]
     },
     "execution_count": 38,
     "metadata": {},
     "output_type": "execute_result"
    }
   ],
   "source": [
    "avg_products_per_week"
   ]
  },
  {
   "cell_type": "markdown",
   "metadata": {},
   "source": [
    "#### Среднее количество покупок в неделю для каждого пользователя записано в датафрейм avg_products_per_week.\n",
    "- Строки - уникальные номера пользоваталей (customer_unique_id), \n",
    "- Столбцы - месяц в формате год_месяц даты оплаты заказа, \n",
    "- Значения - среднее количество купленых товаров в месяц"
   ]
  },
  {
   "cell_type": "markdown",
   "metadata": {},
   "source": [
    "## 5. Построение когортного анализа"
   ]
  },
  {
   "cell_type": "markdown",
   "metadata": {},
   "source": [
    "Исходя из постановки вопроса \"В период с января по декабрь выяви когорту с самым высоким retention на 3-й месяц.\" наши когорты будут представлять группу пользователей, совершивших первый заказ в определенный месяц. Тоесть октябрь 2016, май 2017 и т.д. Для каждой когорты с шагом в один месяц далее нужно вычислить retension: количество пользователей из когорты х совершивхих покупки в месяц 1 + y, разделенное на общее кольчество пользователей когорты x совершивших покупки в месяц 1. Для первого месяца в такой схеме retension всегда будет 100%, поэтому данную информацию мы выводить не будем. Второй месяц - месяц следующий за месяцем для которого образована когорта. В качестве покупки для целей расчета retension будем использовать дату оплаты заказа (order_approved_at), т.к. нас интересует сам факт возврата пользователя к нашему сервису и момент оплаты его заказа. То, что дальше заказ может быть не доставлен по разным причинам нас не интересует и пользователей на дальнейшие процессы после оплаты никак не воздействует. Так же не будем учитывать отмененные пользователями заказы (order_status = canceled в данных по заказам orders). \n",
    "\n",
    "Функция cohorts_analysis будет принимать на вход информацию о заказах (orders) и пользователях (customers) и на выходе визулизировать когортный анализ с показателем retension для каждого следующего месяца для каждой когорты."
   ]
  },
  {
   "cell_type": "code",
   "execution_count": 39,
   "metadata": {},
   "outputs": [],
   "source": [
    "def make_cohorts (x, y): \n",
    "    df = customers.merge(orders, on='customer_id') #объеденим данные по заказам и пользователям\n",
    "    df = df.query('order_status != \"canceled\"') #данные по отмененным заказам не учитываем\n",
    "    df = df[['customer_unique_id', 'order_approved_at']] #оставим только нужные колонки\n",
    "    \n",
    "    df['period'] = df.order_approved_at.dt.strftime('%Y-%m') #период в котором учитывается заказ\n",
    "    \n",
    "    #период первой покупки для пользователей\n",
    "    df.set_index('customer_unique_id', inplace=True)\n",
    "    df['first_order'] = df.groupby(level=0)['order_approved_at'].min().dt.strftime('%Y-%m') \n",
    "    df.reset_index(inplace=True)\n",
    "    \n",
    "    \n",
    "    grouped = df.groupby(['first_order', 'period'])\n",
    "    cohorts = grouped.agg({'customer_unique_id': pd.Series.nunique,\n",
    "                           'order_approved_at': pd.Series.count})\n",
    "    cohorts = cohorts.rename(columns={'customer_unique_id':'users', 'order_approved_at':'orders'})\n",
    "    \n",
    "    def cohort_period(df):\n",
    "        df['month'] = np.arange(len(df)) + 1 # отсчет с 1\n",
    "        return df\n",
    "    \n",
    "    cohorts = cohorts.groupby(level=0).apply(cohort_period)\n",
    "    cohorts.reset_index(inplace=True)\n",
    "    cohorts.set_index(['month','first_order'], inplace=True)\n",
    "    \n",
    "    #размер когорт\n",
    "    cohort_group_size = cohorts['users'].groupby(level=1).first()\n",
    "    cohorts['users'].unstack(1)\n",
    "    \n",
    "    #расчет retention\n",
    "    user_retention = cohorts['users'].unstack(1).divide(cohort_group_size, axis=1)\n",
    "    user_retention = user_retention.drop(index=1)\n",
    "    \n",
    "    #настройки визуализации\n",
    "    plt.figure(figsize=(16, 8))\n",
    "    plt.title('User Retention')\n",
    "    \n",
    "    return sns.heatmap(user_retention.T, \n",
    "                       mask=user_retention.T.isnull(), \n",
    "                       annot=True, \n",
    "                       vmin=0, \n",
    "                       vmax=0.008, \n",
    "                       fmt='.2%', \n",
    "                       cmap=\"magma\")"
   ]
  },
  {
   "cell_type": "code",
   "execution_count": 40,
   "metadata": {},
   "outputs": [
    {
     "data": {
      "text/plain": [
       "<matplotlib.axes._subplots.AxesSubplot at 0x7f7365353940>"
      ]
     },
     "execution_count": 40,
     "metadata": {},
     "output_type": "execute_result"
    },
    {
     "data": {
      "image/png": "[encoded data removed]",
      "text/plain": [
       "<Figure size 1152x576 with 2 Axes>"
      ]
     },
     "metadata": {
      "needs_background": "light"
     },
     "output_type": "display_data"
    }
   ],
   "source": [
    "make_cohorts(customers, orders)"
   ]
  },
  {
   "cell_type": "markdown",
   "metadata": {},
   "source": [
    "В период с января по декабрь с самым высоким retention на 3-й месяц является когорта пользователей, совершивших первую покупку в мае 2017 года."
   ]
  },
  {
   "cell_type": "markdown",
   "metadata": {},
   "source": [
    "## 6. Построение RFM-кластеров для пользователей. Для каждого кластера определить средние значения метрик R, F, M (с подробным описанием). "
   ]
  },
  {
   "cell_type": "markdown",
   "metadata": {},
   "source": [
    "### Подготовка данных для анализа"
   ]
  },
  {
   "cell_type": "markdown",
   "metadata": {},
   "source": [
    "Нас будут интересовать только те пользователи, которые оплатили заказ - присутствует информация в колонке подтверждения оплаты order_approved_at. Если на последующих этапах заказ не был доставлен пользователю - то это уже не его проблема. Поэтому будем брать данные только те, где есть оплата order_approved_at. Так же не будем учитывать отмененные заказы (order_status = canceled в данных по заказам orders)"
   ]
  },
  {
   "cell_type": "code",
   "execution_count": 41,
   "metadata": {},
   "outputs": [
    {
     "data": {
      "text/plain": [
       "date          0\n",
       "pay_date     20\n",
       "order         0\n",
       "customer      0\n",
       "cost        611\n",
       "dtype: int64"
      ]
     },
     "execution_count": 41,
     "metadata": {},
     "output_type": "execute_result"
    }
   ],
   "source": [
    "#соеденим три файла:\n",
    "orders_customers = orders.merge(customers, how='outer', on='customer_id')\n",
    "orders_customers_items = orders_customers.merge(items, how='outer', on='order_id')\n",
    "orders_customers_items = orders_customers_items.query('order_status != \"canceled\"')\n",
    "\n",
    "#оставим нужные колонки:\n",
    "orders_customers_items = orders_customers_items[['order_purchase_timestamp', \n",
    "                                                 'order_approved_at','order_id', \n",
    "                                                 'customer_unique_id', \n",
    "                                                 'price']]\n",
    "\n",
    "#переименуем столбы на более короткие названия:\n",
    "orders_customers_items = orders_customers_items.rename(columns={'order_purchase_timestamp' : 'date', \n",
    "                                                                'customer_unique_id'       : 'customer',\n",
    "                                                                'order_id'                 : 'order',\n",
    "                                                                'order_approved_at'        : 'pay_date',\n",
    "                                                                'price'                    : 'cost'})\n",
    "\n",
    "#переведем формат даты:\n",
    "orders_customers_items.date = orders_customers_items.date.dt.date\n",
    "orders_customers_items.pay_date = orders_customers_items.pay_date.dt.date\n",
    "\n",
    "#посчитаем нулевые значения:\n",
    "orders_customers_items.isna().sum()"
   ]
  },
  {
   "cell_type": "markdown",
   "metadata": {},
   "source": [
    "Как мы видим, для 20 строк отсутствует подтверждение оплаты. Еще для 611 отсутствует цена. Эту информацию учитывать не будем. "
   ]
  },
  {
   "cell_type": "code",
   "execution_count": 42,
   "metadata": {},
   "outputs": [
    {
     "data": {
      "text/html": [
       "<div>\n",
       "<style scoped>\n",
       "    .dataframe tbody tr th:only-of-type {\n",
       "        vertical-align: middle;\n",
       "    }\n",
       "\n",
       "    .dataframe tbody tr th {\n",
       "        vertical-align: top;\n",
       "    }\n",
       "\n",
       "    .dataframe thead th {\n",
       "        text-align: right;\n",
       "    }\n",
       "</style>\n",
       "<table border=\"1\" class=\"dataframe\">\n",
       "  <thead>\n",
       "    <tr style=\"text-align: right;\">\n",
       "      <th></th>\n",
       "      <th>date</th>\n",
       "      <th>customer</th>\n",
       "      <th>order</th>\n",
       "      <th>cost</th>\n",
       "    </tr>\n",
       "  </thead>\n",
       "  <tbody>\n",
       "    <tr>\n",
       "      <th>0</th>\n",
       "      <td>2016-09-04</td>\n",
       "      <td>b7d76e111c89f7ebf14761390f0f7d17</td>\n",
       "      <td>2e7a8482f6fb09756ca50c10d7bfc047</td>\n",
       "      <td>72.89</td>\n",
       "    </tr>\n",
       "    <tr>\n",
       "      <th>1</th>\n",
       "      <td>2016-09-15</td>\n",
       "      <td>830d5b7aaa3b6f1e9ad63703bec97d23</td>\n",
       "      <td>bfbd0f9bdef84302105ad712db648a6c</td>\n",
       "      <td>134.97</td>\n",
       "    </tr>\n",
       "    <tr>\n",
       "      <th>2</th>\n",
       "      <td>2016-10-03</td>\n",
       "      <td>10e89fd8e5c745f81bec101207ba4d7d</td>\n",
       "      <td>ef1b29b591d31d57c0d7337460dd83c9</td>\n",
       "      <td>74.90</td>\n",
       "    </tr>\n",
       "    <tr>\n",
       "      <th>3</th>\n",
       "      <td>2016-10-03</td>\n",
       "      <td>2f64e403852e6893ae37485d5fcacdaf</td>\n",
       "      <td>be5bc2f0da14d8071e2d45451ad119d9</td>\n",
       "      <td>21.90</td>\n",
       "    </tr>\n",
       "    <tr>\n",
       "      <th>4</th>\n",
       "      <td>2016-10-03</td>\n",
       "      <td>32ea3bdedab835c3aa6cb68ce66565ef</td>\n",
       "      <td>3b697a20d9e427646d92567910af6d57</td>\n",
       "      <td>29.90</td>\n",
       "    </tr>\n",
       "  </tbody>\n",
       "</table>\n",
       "</div>"
      ],
      "text/plain": [
       "         date                          customer  \\\n",
       "0  2016-09-04  b7d76e111c89f7ebf14761390f0f7d17   \n",
       "1  2016-09-15  830d5b7aaa3b6f1e9ad63703bec97d23   \n",
       "2  2016-10-03  10e89fd8e5c745f81bec101207ba4d7d   \n",
       "3  2016-10-03  2f64e403852e6893ae37485d5fcacdaf   \n",
       "4  2016-10-03  32ea3bdedab835c3aa6cb68ce66565ef   \n",
       "\n",
       "                              order    cost  \n",
       "0  2e7a8482f6fb09756ca50c10d7bfc047   72.89  \n",
       "1  bfbd0f9bdef84302105ad712db648a6c  134.97  \n",
       "2  ef1b29b591d31d57c0d7337460dd83c9   74.90  \n",
       "3  be5bc2f0da14d8071e2d45451ad119d9   21.90  \n",
       "4  3b697a20d9e427646d92567910af6d57   29.90  "
      ]
     },
     "execution_count": 42,
     "metadata": {},
     "output_type": "execute_result"
    }
   ],
   "source": [
    "orders_customers_items = orders_customers_items.dropna()\n",
    "\n",
    "#создадим итоговый датафрейм для анализа только с нужными колонками:\n",
    "rfm = orders_customers_items.groupby(['date', 'customer', 'order'], as_index=False).agg({'cost':'sum'})\n",
    "rfm.head()"
   ]
  },
  {
   "cell_type": "code",
   "execution_count": 43,
   "metadata": {},
   "outputs": [],
   "source": [
    "#'Сегодня' будем считать как последняя дата в rfm + 1 день\n",
    "last_date = rfm['date'].max() + timedelta(days=1)"
   ]
  },
  {
   "cell_type": "code",
   "execution_count": 44,
   "metadata": {},
   "outputs": [
    {
     "data": {
      "text/html": [
       "<div>\n",
       "<style scoped>\n",
       "    .dataframe tbody tr th:only-of-type {\n",
       "        vertical-align: middle;\n",
       "    }\n",
       "\n",
       "    .dataframe tbody tr th {\n",
       "        vertical-align: top;\n",
       "    }\n",
       "\n",
       "    .dataframe thead th {\n",
       "        text-align: right;\n",
       "    }\n",
       "</style>\n",
       "<table border=\"1\" class=\"dataframe\">\n",
       "  <thead>\n",
       "    <tr style=\"text-align: right;\">\n",
       "      <th></th>\n",
       "      <th>customer</th>\n",
       "      <th>recency</th>\n",
       "      <th>frequency</th>\n",
       "      <th>monetary</th>\n",
       "    </tr>\n",
       "  </thead>\n",
       "  <tbody>\n",
       "    <tr>\n",
       "      <th>0</th>\n",
       "      <td>0000366f3b9a7992bf8c76cfdf3221e2</td>\n",
       "      <td>117</td>\n",
       "      <td>1</td>\n",
       "      <td>129.90</td>\n",
       "    </tr>\n",
       "    <tr>\n",
       "      <th>1</th>\n",
       "      <td>0000b849f77a49e4a4ce2b2a4ca5be3f</td>\n",
       "      <td>120</td>\n",
       "      <td>1</td>\n",
       "      <td>18.90</td>\n",
       "    </tr>\n",
       "    <tr>\n",
       "      <th>2</th>\n",
       "      <td>0000f46a3911fa3c0805444483337064</td>\n",
       "      <td>543</td>\n",
       "      <td>1</td>\n",
       "      <td>69.00</td>\n",
       "    </tr>\n",
       "    <tr>\n",
       "      <th>3</th>\n",
       "      <td>0000f6ccb0745a6a4b88665a16c9f078</td>\n",
       "      <td>327</td>\n",
       "      <td>1</td>\n",
       "      <td>25.99</td>\n",
       "    </tr>\n",
       "    <tr>\n",
       "      <th>4</th>\n",
       "      <td>0004aac84e0df4da2b147fca70cf8255</td>\n",
       "      <td>294</td>\n",
       "      <td>1</td>\n",
       "      <td>180.00</td>\n",
       "    </tr>\n",
       "  </tbody>\n",
       "</table>\n",
       "</div>"
      ],
      "text/plain": [
       "                           customer  recency  frequency  monetary\n",
       "0  0000366f3b9a7992bf8c76cfdf3221e2      117          1    129.90\n",
       "1  0000b849f77a49e4a4ce2b2a4ca5be3f      120          1     18.90\n",
       "2  0000f46a3911fa3c0805444483337064      543          1     69.00\n",
       "3  0000f6ccb0745a6a4b88665a16c9f078      327          1     25.99\n",
       "4  0004aac84e0df4da2b147fca70cf8255      294          1    180.00"
      ]
     },
     "execution_count": 44,
     "metadata": {},
     "output_type": "execute_result"
    }
   ],
   "source": [
    "#создадим датафрейм с показателями RFM для каждого пользователя:\n",
    "rfmTable = rfm.groupby('customer')\\\n",
    "              .agg({'date'     : lambda x: (last_date - x.max()).days,\n",
    "                    'customer' : lambda x: len(x), \n",
    "                    'cost'     : 'sum'})\n",
    "\n",
    "rfmTable.rename(columns={'date'      : 'recency', \n",
    "                         'customer'  : 'frequency', \n",
    "                         'cost'      : 'monetary'}, inplace=True)\n",
    "\n",
    "rfmTable = rfmTable.reset_index()\n",
    "rfmTable.head()"
   ]
  },
  {
   "cell_type": "code",
   "execution_count": 45,
   "metadata": {},
   "outputs": [
    {
     "data": {
      "text/plain": [
       "94976"
      ]
     },
     "execution_count": 45,
     "metadata": {},
     "output_type": "execute_result"
    }
   ],
   "source": [
    "#посмотрим для какого числа пользоветелей будем строить анализ\n",
    "rfmTable.customer.nunique()"
   ]
  },
  {
   "cell_type": "markdown",
   "metadata": {},
   "source": [
    "### Определение границ сегментов"
   ]
  },
  {
   "cell_type": "code",
   "execution_count": 46,
   "metadata": {},
   "outputs": [
    {
     "data": {
      "text/html": [
       "<div>\n",
       "<style scoped>\n",
       "    .dataframe tbody tr th:only-of-type {\n",
       "        vertical-align: middle;\n",
       "    }\n",
       "\n",
       "    .dataframe tbody tr th {\n",
       "        vertical-align: top;\n",
       "    }\n",
       "\n",
       "    .dataframe thead th {\n",
       "        text-align: right;\n",
       "    }\n",
       "</style>\n",
       "<table border=\"1\" class=\"dataframe\">\n",
       "  <thead>\n",
       "    <tr style=\"text-align: right;\">\n",
       "      <th></th>\n",
       "      <th>recency</th>\n",
       "      <th>frequency</th>\n",
       "      <th>monetary</th>\n",
       "    </tr>\n",
       "  </thead>\n",
       "  <tbody>\n",
       "    <tr>\n",
       "      <th>count</th>\n",
       "      <td>94976.000000</td>\n",
       "      <td>94976.000000</td>\n",
       "      <td>94976.000000</td>\n",
       "    </tr>\n",
       "    <tr>\n",
       "      <th>mean</th>\n",
       "      <td>244.318565</td>\n",
       "      <td>1.033851</td>\n",
       "      <td>142.085769</td>\n",
       "    </tr>\n",
       "    <tr>\n",
       "      <th>std</th>\n",
       "      <td>152.985829</td>\n",
       "      <td>0.210795</td>\n",
       "      <td>216.107543</td>\n",
       "    </tr>\n",
       "    <tr>\n",
       "      <th>min</th>\n",
       "      <td>1.000000</td>\n",
       "      <td>1.000000</td>\n",
       "      <td>0.850000</td>\n",
       "    </tr>\n",
       "    <tr>\n",
       "      <th>25%</th>\n",
       "      <td>120.000000</td>\n",
       "      <td>1.000000</td>\n",
       "      <td>47.900000</td>\n",
       "    </tr>\n",
       "    <tr>\n",
       "      <th>50%</th>\n",
       "      <td>225.000000</td>\n",
       "      <td>1.000000</td>\n",
       "      <td>89.890000</td>\n",
       "    </tr>\n",
       "    <tr>\n",
       "      <th>75%</th>\n",
       "      <td>353.000000</td>\n",
       "      <td>1.000000</td>\n",
       "      <td>155.000000</td>\n",
       "    </tr>\n",
       "    <tr>\n",
       "      <th>max</th>\n",
       "      <td>730.000000</td>\n",
       "      <td>16.000000</td>\n",
       "      <td>13440.000000</td>\n",
       "    </tr>\n",
       "  </tbody>\n",
       "</table>\n",
       "</div>"
      ],
      "text/plain": [
       "            recency     frequency      monetary\n",
       "count  94976.000000  94976.000000  94976.000000\n",
       "mean     244.318565      1.033851    142.085769\n",
       "std      152.985829      0.210795    216.107543\n",
       "min        1.000000      1.000000      0.850000\n",
       "25%      120.000000      1.000000     47.900000\n",
       "50%      225.000000      1.000000     89.890000\n",
       "75%      353.000000      1.000000    155.000000\n",
       "max      730.000000     16.000000  13440.000000"
      ]
     },
     "execution_count": 46,
     "metadata": {},
     "output_type": "execute_result"
    }
   ],
   "source": [
    "#посмотрим на описательные статистики каждого показателя и построим три попарных графика\n",
    "rfmTable.describe()"
   ]
  },
  {
   "cell_type": "code",
   "execution_count": 47,
   "metadata": {},
   "outputs": [
    {
     "data": {
      "text/plain": [
       "<matplotlib.axes._subplots.AxesSubplot at 0x7f736525d048>"
      ]
     },
     "execution_count": 47,
     "metadata": {},
     "output_type": "execute_result"
    },
    {
     "data": {
      "image/png": "[encoded data removed]",
      "text/plain": [
       "<Figure size 432x288 with 1 Axes>"
      ]
     },
     "metadata": {
      "needs_background": "light"
     },
     "output_type": "display_data"
    }
   ],
   "source": [
    "sns.scatterplot(data=rfmTable, x='monetary', y='recency')"
   ]
  },
  {
   "cell_type": "markdown",
   "metadata": {},
   "source": [
    "Выяснилось, что у нас имеется пробел в данных между 600 и 700 днями. Сейчас не важно, по каким причинам это произошло, важно то, что пользоветелей, которые совершали покупку более 650 дней назад откинем, чтобы они не смещали RFM анализ и его показатели и сегментацию."
   ]
  },
  {
   "cell_type": "code",
   "execution_count": 48,
   "metadata": {},
   "outputs": [
    {
     "data": {
      "text/plain": [
       "94690"
      ]
     },
     "execution_count": 48,
     "metadata": {},
     "output_type": "execute_result"
    }
   ],
   "source": [
    "rfmTable = rfmTable.query('recency < 650')\n",
    "rfmTable.customer.nunique()"
   ]
  },
  {
   "cell_type": "code",
   "execution_count": 49,
   "metadata": {},
   "outputs": [
    {
     "data": {
      "text/plain": [
       "299"
      ]
     },
     "execution_count": 49,
     "metadata": {},
     "output_type": "execute_result"
    }
   ],
   "source": [
    "95407 - 95108"
   ]
  },
  {
   "cell_type": "markdown",
   "metadata": {},
   "source": [
    "Кстати говоря таких пользователей оказалось не много - всего 299. "
   ]
  },
  {
   "cell_type": "code",
   "execution_count": 50,
   "metadata": {},
   "outputs": [
    {
     "data": {
      "text/plain": [
       "<matplotlib.axes._subplots.AxesSubplot at 0x7f736509ac50>"
      ]
     },
     "execution_count": 50,
     "metadata": {},
     "output_type": "execute_result"
    },
    {
     "data": {
      "image/png": "[encoded data removed]",
      "text/plain": [
       "<Figure size 432x288 with 1 Axes>"
      ]
     },
     "metadata": {
      "needs_background": "light"
     },
     "output_type": "display_data"
    }
   ],
   "source": [
    "sns.scatterplot(data=rfmTable, x='monetary', y='frequency')"
   ]
  },
  {
   "cell_type": "code",
   "execution_count": 51,
   "metadata": {},
   "outputs": [
    {
     "data": {
      "text/plain": [
       "<matplotlib.axes._subplots.AxesSubplot at 0x7f7364e09400>"
      ]
     },
     "execution_count": 51,
     "metadata": {},
     "output_type": "execute_result"
    },
    {
     "data": {
      "image/png": "[encoded data removed]",
      "text/plain": [
       "<Figure size 432x288 with 1 Axes>"
      ]
     },
     "metadata": {
      "needs_background": "light"
     },
     "output_type": "display_data"
    }
   ],
   "source": [
    "sns.scatterplot(data=rfmTable, x='recency', y='frequency')"
   ]
  },
  {
   "cell_type": "code",
   "execution_count": 52,
   "metadata": {},
   "outputs": [
    {
     "data": {
      "text/plain": [
       "array([ 1,  2,  3,  4,  6,  7,  5,  9, 16])"
      ]
     },
     "execution_count": 52,
     "metadata": {},
     "output_type": "execute_result"
    }
   ],
   "source": [
    "rfmTable.frequency.unique()"
   ]
  },
  {
   "cell_type": "markdown",
   "metadata": {},
   "source": [
    "### Вариант 1 - Приоретизация пользователям, покупающим чаще и больше"
   ]
  },
  {
   "cell_type": "markdown",
   "metadata": {},
   "source": [
    "Самый интересный момент в RFM анализе - определение границ сегментов. Как мы видим, наименьшую изменчивоть имеет частота (frequency), для которой мы имеем всего 9 уникальных значений. С неё мы и начнем. \n",
    "\n",
    "Нам точно стоит выделить сегмент пользователей, которые совершили только одну покупку. Так же имеет смысл выделить одного пользователя, который совершил 16 покупок и существенно отличается от второго по этому показателю. Дальше по этому же принципу для recency и monetary, в максимальном сегменьте мы будем выделять только тех пользователей, которые существенно отличаются от других. Итого у нас остается 2, 3, 4, 5, 6, 7, 9. \n",
    "\n",
    "Чтобы выделить следующие два сегмента посмотрим сколько в каждом пользователей:"
   ]
  },
  {
   "cell_type": "code",
   "execution_count": 53,
   "metadata": {},
   "outputs": [
    {
     "data": {
      "text/html": [
       "<div>\n",
       "<style scoped>\n",
       "    .dataframe tbody tr th:only-of-type {\n",
       "        vertical-align: middle;\n",
       "    }\n",
       "\n",
       "    .dataframe tbody tr th {\n",
       "        vertical-align: top;\n",
       "    }\n",
       "\n",
       "    .dataframe thead th {\n",
       "        text-align: right;\n",
       "    }\n",
       "</style>\n",
       "<table border=\"1\" class=\"dataframe\">\n",
       "  <thead>\n",
       "    <tr style=\"text-align: right;\">\n",
       "      <th></th>\n",
       "      <th>customer</th>\n",
       "    </tr>\n",
       "    <tr>\n",
       "      <th>frequency</th>\n",
       "      <th></th>\n",
       "    </tr>\n",
       "  </thead>\n",
       "  <tbody>\n",
       "    <tr>\n",
       "      <th>1</th>\n",
       "      <td>91807</td>\n",
       "    </tr>\n",
       "    <tr>\n",
       "      <th>2</th>\n",
       "      <td>2647</td>\n",
       "    </tr>\n",
       "    <tr>\n",
       "      <th>3</th>\n",
       "      <td>188</td>\n",
       "    </tr>\n",
       "    <tr>\n",
       "      <th>4</th>\n",
       "      <td>29</td>\n",
       "    </tr>\n",
       "    <tr>\n",
       "      <th>5</th>\n",
       "      <td>9</td>\n",
       "    </tr>\n",
       "    <tr>\n",
       "      <th>6</th>\n",
       "      <td>5</td>\n",
       "    </tr>\n",
       "    <tr>\n",
       "      <th>7</th>\n",
       "      <td>3</td>\n",
       "    </tr>\n",
       "    <tr>\n",
       "      <th>9</th>\n",
       "      <td>1</td>\n",
       "    </tr>\n",
       "    <tr>\n",
       "      <th>16</th>\n",
       "      <td>1</td>\n",
       "    </tr>\n",
       "  </tbody>\n",
       "</table>\n",
       "</div>"
      ],
      "text/plain": [
       "           customer\n",
       "frequency          \n",
       "1             91807\n",
       "2              2647\n",
       "3               188\n",
       "4                29\n",
       "5                 9\n",
       "6                 5\n",
       "7                 3\n",
       "9                 1\n",
       "16                1"
      ]
     },
     "execution_count": 53,
     "metadata": {},
     "output_type": "execute_result"
    }
   ],
   "source": [
    "rfmTable.groupby('frequency').agg({'customer':'count'})"
   ]
  },
  {
   "cell_type": "markdown",
   "metadata": {},
   "source": [
    "Выделим ещё два сегмента (2, 3) и (4, 5, 6, 7, 9). \n",
    "\n",
    "#### F сегменты:\n",
    "- 4 количество заказов больше 15\n",
    "- 3 количество заказов 4-15\n",
    "- 2 количество заказов 2-3\n",
    "- 1 количество заказов 1"
   ]
  },
  {
   "cell_type": "markdown",
   "metadata": {},
   "source": [
    "Теперь посмотрим на распределение recency"
   ]
  },
  {
   "cell_type": "code",
   "execution_count": 54,
   "metadata": {},
   "outputs": [
    {
     "name": "stderr",
     "output_type": "stream",
     "text": [
      "/opt/tljh/user/lib/python3.7/site-packages/seaborn/distributions.py:2557: FutureWarning: `distplot` is a deprecated function and will be removed in a future version. Please adapt your code to use either `displot` (a figure-level function with similar flexibility) or `histplot` (an axes-level function for histograms).\n",
      "  warnings.warn(msg, FutureWarning)\n"
     ]
    },
    {
     "data": {
      "text/plain": [
       "<matplotlib.axes._subplots.AxesSubplot at 0x7f7364dc7320>"
      ]
     },
     "execution_count": 54,
     "metadata": {},
     "output_type": "execute_result"
    },
    {
     "data": {
      "image/png": "[encoded data removed]",
      "text/plain": [
       "<Figure size 432x288 with 1 Axes>"
      ]
     },
     "metadata": {
      "needs_background": "light"
     },
     "output_type": "display_data"
    }
   ],
   "source": [
    "sns.distplot(rfmTable.recency, kde=False)"
   ]
  },
  {
   "cell_type": "code",
   "execution_count": 55,
   "metadata": {},
   "outputs": [
    {
     "data": {
      "text/plain": [
       "51"
      ]
     },
     "execution_count": 55,
     "metadata": {},
     "output_type": "execute_result"
    }
   ],
   "source": [
    "rfmTable.query('recency <= 7').recency.count()"
   ]
  },
  {
   "cell_type": "code",
   "execution_count": 56,
   "metadata": {},
   "outputs": [
    {
     "data": {
      "text/plain": [
       "5225"
      ]
     },
     "execution_count": 56,
     "metadata": {},
     "output_type": "execute_result"
    }
   ],
   "source": [
    "rfmTable.query('recency <= 30').recency.count()"
   ]
  },
  {
   "cell_type": "code",
   "execution_count": 57,
   "metadata": {},
   "outputs": [
    {
     "data": {
      "text/plain": [
       "23796"
      ]
     },
     "execution_count": 57,
     "metadata": {},
     "output_type": "execute_result"
    }
   ],
   "source": [
    "rfmTable.query('recency <= 120').recency.count()"
   ]
  },
  {
   "cell_type": "markdown",
   "metadata": {},
   "source": [
    "Гриницы сегментов по последнему посещению выберем исходя из календарных значений: неделя, месяц, квартал.\n",
    "#### R сегменты:\n",
    "- 4 меньше или равно 7 дней\n",
    "- 3 от 7 до 30\n",
    "- 2 от 30 до 120\n",
    "- 1 выше 120"
   ]
  },
  {
   "cell_type": "markdown",
   "metadata": {},
   "source": [
    "Теперь посмотрим на распределение monetary"
   ]
  },
  {
   "cell_type": "code",
   "execution_count": 58,
   "metadata": {},
   "outputs": [
    {
     "name": "stderr",
     "output_type": "stream",
     "text": [
      "/opt/tljh/user/lib/python3.7/site-packages/seaborn/distributions.py:2557: FutureWarning: `distplot` is a deprecated function and will be removed in a future version. Please adapt your code to use either `displot` (a figure-level function with similar flexibility) or `histplot` (an axes-level function for histograms).\n",
      "  warnings.warn(msg, FutureWarning)\n"
     ]
    },
    {
     "data": {
      "text/plain": [
       "<matplotlib.axes._subplots.AxesSubplot at 0x7f7364de6e80>"
      ]
     },
     "execution_count": 58,
     "metadata": {},
     "output_type": "execute_result"
    },
    {
     "data": {
      "image/png": "[encoded data removed]",
      "text/plain": [
       "<Figure size 432x288 with 1 Axes>"
      ]
     },
     "metadata": {
      "needs_background": "light"
     },
     "output_type": "display_data"
    }
   ],
   "source": [
    "sns.distplot(rfmTable.monetary, kde=False)"
   ]
  },
  {
   "cell_type": "code",
   "execution_count": 59,
   "metadata": {},
   "outputs": [
    {
     "data": {
      "text/html": [
       "<div>\n",
       "<style scoped>\n",
       "    .dataframe tbody tr th:only-of-type {\n",
       "        vertical-align: middle;\n",
       "    }\n",
       "\n",
       "    .dataframe tbody tr th {\n",
       "        vertical-align: top;\n",
       "    }\n",
       "\n",
       "    .dataframe thead th {\n",
       "        text-align: right;\n",
       "    }\n",
       "</style>\n",
       "<table border=\"1\" class=\"dataframe\">\n",
       "  <thead>\n",
       "    <tr style=\"text-align: right;\">\n",
       "      <th></th>\n",
       "      <th>customer</th>\n",
       "      <th>recency</th>\n",
       "      <th>frequency</th>\n",
       "      <th>monetary</th>\n",
       "    </tr>\n",
       "  </thead>\n",
       "  <tbody>\n",
       "    <tr>\n",
       "      <th>3788</th>\n",
       "      <td>0a0a92112bd4c708ca5fde585afaa872</td>\n",
       "      <td>340</td>\n",
       "      <td>1</td>\n",
       "      <td>13440.00</td>\n",
       "    </tr>\n",
       "    <tr>\n",
       "      <th>81004</th>\n",
       "      <td>da122df9eeddfedc1dc1f5349a1a690c</td>\n",
       "      <td>521</td>\n",
       "      <td>2</td>\n",
       "      <td>7388.00</td>\n",
       "    </tr>\n",
       "    <tr>\n",
       "      <th>43937</th>\n",
       "      <td>763c8b1c9c68a0229c42c9fc6f662b93</td>\n",
       "      <td>51</td>\n",
       "      <td>1</td>\n",
       "      <td>7160.00</td>\n",
       "    </tr>\n",
       "    <tr>\n",
       "      <th>81843</th>\n",
       "      <td>dc4802a71eae9be1dd28f5d788ceb526</td>\n",
       "      <td>569</td>\n",
       "      <td>1</td>\n",
       "      <td>6735.00</td>\n",
       "    </tr>\n",
       "    <tr>\n",
       "      <th>25902</th>\n",
       "      <td>459bef486812aa25204be022145caa62</td>\n",
       "      <td>41</td>\n",
       "      <td>1</td>\n",
       "      <td>6729.00</td>\n",
       "    </tr>\n",
       "    <tr>\n",
       "      <th>94689</th>\n",
       "      <td>ff4159b92c40ebe40454e3e6a7c35ed6</td>\n",
       "      <td>468</td>\n",
       "      <td>1</td>\n",
       "      <td>6499.00</td>\n",
       "    </tr>\n",
       "    <tr>\n",
       "      <th>23842</th>\n",
       "      <td>4007669dec559734d6f53e029e360987</td>\n",
       "      <td>284</td>\n",
       "      <td>1</td>\n",
       "      <td>5934.60</td>\n",
       "    </tr>\n",
       "    <tr>\n",
       "      <th>88645</th>\n",
       "      <td>eebb5dda148d3893cdaf5b5ca3040ccb</td>\n",
       "      <td>504</td>\n",
       "      <td>1</td>\n",
       "      <td>4690.00</td>\n",
       "    </tr>\n",
       "    <tr>\n",
       "      <th>27125</th>\n",
       "      <td>48e1ac109decbb87765a3eade6854098</td>\n",
       "      <td>74</td>\n",
       "      <td>1</td>\n",
       "      <td>4590.00</td>\n",
       "    </tr>\n",
       "    <tr>\n",
       "      <th>60206</th>\n",
       "      <td>a229eba70ec1c2abef51f04987deb7a5</td>\n",
       "      <td>96</td>\n",
       "      <td>1</td>\n",
       "      <td>4400.00</td>\n",
       "    </tr>\n",
       "    <tr>\n",
       "      <th>88347</th>\n",
       "      <td>edde2314c6c30e864a128ac95d6b2112</td>\n",
       "      <td>32</td>\n",
       "      <td>1</td>\n",
       "      <td>4399.87</td>\n",
       "    </tr>\n",
       "    <tr>\n",
       "      <th>92907</th>\n",
       "      <td>fa562ef24d41361e476e748681810e1e</td>\n",
       "      <td>159</td>\n",
       "      <td>1</td>\n",
       "      <td>4099.99</td>\n",
       "    </tr>\n",
       "    <tr>\n",
       "      <th>74396</th>\n",
       "      <td>c8460e4251689ba205045f3ea17884a1</td>\n",
       "      <td>27</td>\n",
       "      <td>4</td>\n",
       "      <td>4080.00</td>\n",
       "    </tr>\n",
       "    <tr>\n",
       "      <th>75102</th>\n",
       "      <td>ca27f3dac28fb1063faddd424c9d95fa</td>\n",
       "      <td>37</td>\n",
       "      <td>1</td>\n",
       "      <td>4059.00</td>\n",
       "    </tr>\n",
       "    <tr>\n",
       "      <th>422</th>\n",
       "      <td>011875f0176909c5cf0b14a9138bb691</td>\n",
       "      <td>535</td>\n",
       "      <td>1</td>\n",
       "      <td>3999.90</td>\n",
       "    </tr>\n",
       "    <tr>\n",
       "      <th>88382</th>\n",
       "      <td>edf81e1f3070b9dac83ec83dacdbb9bc</td>\n",
       "      <td>504</td>\n",
       "      <td>1</td>\n",
       "      <td>3999.00</td>\n",
       "    </tr>\n",
       "    <tr>\n",
       "      <th>35176</th>\n",
       "      <td>5e713be0853d8986528d7869a0811d2b</td>\n",
       "      <td>577</td>\n",
       "      <td>1</td>\n",
       "      <td>3980.00</td>\n",
       "    </tr>\n",
       "    <tr>\n",
       "      <th>89250</th>\n",
       "      <td>f0767ae738c3d90e7b737d7b8b8bb4d1</td>\n",
       "      <td>113</td>\n",
       "      <td>1</td>\n",
       "      <td>3930.00</td>\n",
       "    </tr>\n",
       "    <tr>\n",
       "      <th>32866</th>\n",
       "      <td>58483a1c055dfb600f57c5b867174542</td>\n",
       "      <td>91</td>\n",
       "      <td>1</td>\n",
       "      <td>3899.00</td>\n",
       "    </tr>\n",
       "    <tr>\n",
       "      <th>23806</th>\n",
       "      <td>3fec1a05177762f279472253113d568a</td>\n",
       "      <td>167</td>\n",
       "      <td>1</td>\n",
       "      <td>3700.00</td>\n",
       "    </tr>\n",
       "    <tr>\n",
       "      <th>34671</th>\n",
       "      <td>5d09b0d82126457e2a8ebfb9c9a1ffc4</td>\n",
       "      <td>571</td>\n",
       "      <td>1</td>\n",
       "      <td>3699.99</td>\n",
       "    </tr>\n",
       "    <tr>\n",
       "      <th>69974</th>\n",
       "      <td>bc5e25094a7d51b6aee35236572e64f4</td>\n",
       "      <td>221</td>\n",
       "      <td>1</td>\n",
       "      <td>3690.00</td>\n",
       "    </tr>\n",
       "    <tr>\n",
       "      <th>54535</th>\n",
       "      <td>931eabdf0636b8fd60369a8d759917d6</td>\n",
       "      <td>482</td>\n",
       "      <td>1</td>\n",
       "      <td>3597.00</td>\n",
       "    </tr>\n",
       "    <tr>\n",
       "      <th>1304</th>\n",
       "      <td>03796b63235e0e0a299084988c662c7e</td>\n",
       "      <td>560</td>\n",
       "      <td>1</td>\n",
       "      <td>3549.00</td>\n",
       "    </tr>\n",
       "    <tr>\n",
       "      <th>33480</th>\n",
       "      <td>59d66d72939bc9497e19d89c61a96d5f</td>\n",
       "      <td>390</td>\n",
       "      <td>2</td>\n",
       "      <td>3459.00</td>\n",
       "    </tr>\n",
       "    <tr>\n",
       "      <th>16459</th>\n",
       "      <td>2c3b08cf3584d8c0a81d9618a73aa219</td>\n",
       "      <td>148</td>\n",
       "      <td>1</td>\n",
       "      <td>3399.99</td>\n",
       "    </tr>\n",
       "    <tr>\n",
       "      <th>44073</th>\n",
       "      <td>76a08544f95591acec0d4c976054c459</td>\n",
       "      <td>205</td>\n",
       "      <td>1</td>\n",
       "      <td>3300.00</td>\n",
       "    </tr>\n",
       "    <tr>\n",
       "      <th>57586</th>\n",
       "      <td>9b11e010850a4045d2da80c7783fdbd1</td>\n",
       "      <td>89</td>\n",
       "      <td>1</td>\n",
       "      <td>3198.00</td>\n",
       "    </tr>\n",
       "    <tr>\n",
       "      <th>45571</th>\n",
       "      <td>7a96eb0a685f5c19b7dad29fc802aa64</td>\n",
       "      <td>261</td>\n",
       "      <td>1</td>\n",
       "      <td>3124.00</td>\n",
       "    </tr>\n",
       "    <tr>\n",
       "      <th>26150</th>\n",
       "      <td>46450c74a0d8c5ca9395da1daac6c120</td>\n",
       "      <td>42</td>\n",
       "      <td>1</td>\n",
       "      <td>3109.99</td>\n",
       "    </tr>\n",
       "  </tbody>\n",
       "</table>\n",
       "</div>"
      ],
      "text/plain": [
       "                               customer  recency  frequency  monetary\n",
       "3788   0a0a92112bd4c708ca5fde585afaa872      340          1  13440.00\n",
       "81004  da122df9eeddfedc1dc1f5349a1a690c      521          2   7388.00\n",
       "43937  763c8b1c9c68a0229c42c9fc6f662b93       51          1   7160.00\n",
       "81843  dc4802a71eae9be1dd28f5d788ceb526      569          1   6735.00\n",
       "25902  459bef486812aa25204be022145caa62       41          1   6729.00\n",
       "94689  ff4159b92c40ebe40454e3e6a7c35ed6      468          1   6499.00\n",
       "23842  4007669dec559734d6f53e029e360987      284          1   5934.60\n",
       "88645  eebb5dda148d3893cdaf5b5ca3040ccb      504          1   4690.00\n",
       "27125  48e1ac109decbb87765a3eade6854098       74          1   4590.00\n",
       "60206  a229eba70ec1c2abef51f04987deb7a5       96          1   4400.00\n",
       "88347  edde2314c6c30e864a128ac95d6b2112       32          1   4399.87\n",
       "92907  fa562ef24d41361e476e748681810e1e      159          1   4099.99\n",
       "74396  c8460e4251689ba205045f3ea17884a1       27          4   4080.00\n",
       "75102  ca27f3dac28fb1063faddd424c9d95fa       37          1   4059.00\n",
       "422    011875f0176909c5cf0b14a9138bb691      535          1   3999.90\n",
       "88382  edf81e1f3070b9dac83ec83dacdbb9bc      504          1   3999.00\n",
       "35176  5e713be0853d8986528d7869a0811d2b      577          1   3980.00\n",
       "89250  f0767ae738c3d90e7b737d7b8b8bb4d1      113          1   3930.00\n",
       "32866  58483a1c055dfb600f57c5b867174542       91          1   3899.00\n",
       "23806  3fec1a05177762f279472253113d568a      167          1   3700.00\n",
       "34671  5d09b0d82126457e2a8ebfb9c9a1ffc4      571          1   3699.99\n",
       "69974  bc5e25094a7d51b6aee35236572e64f4      221          1   3690.00\n",
       "54535  931eabdf0636b8fd60369a8d759917d6      482          1   3597.00\n",
       "1304   03796b63235e0e0a299084988c662c7e      560          1   3549.00\n",
       "33480  59d66d72939bc9497e19d89c61a96d5f      390          2   3459.00\n",
       "16459  2c3b08cf3584d8c0a81d9618a73aa219      148          1   3399.99\n",
       "44073  76a08544f95591acec0d4c976054c459      205          1   3300.00\n",
       "57586  9b11e010850a4045d2da80c7783fdbd1       89          1   3198.00\n",
       "45571  7a96eb0a685f5c19b7dad29fc802aa64      261          1   3124.00\n",
       "26150  46450c74a0d8c5ca9395da1daac6c120       42          1   3109.99"
      ]
     },
     "execution_count": 59,
     "metadata": {},
     "output_type": "execute_result"
    }
   ],
   "source": [
    "#посмотрим на ТОП 30\n",
    "rfmTable.sort_values('monetary', ascending=False).head(30)"
   ]
  },
  {
   "cell_type": "markdown",
   "metadata": {},
   "source": [
    "Как говорили ранее в 4 сегмент будут попадать только совсем исключительные случаи. По monetary это пользователь с общей суммой затрат 13440, что существенно больше чем у ближайшего. Границу определим как 10000 и больше. В 3 сегмент по recency и friqency попало от 48 до 9324 пользователей. Для monetary выберем третий сегмент так, чтобы в него попало пользователей в таком же диапазоне."
   ]
  },
  {
   "cell_type": "code",
   "execution_count": 60,
   "metadata": {},
   "outputs": [
    {
     "data": {
      "text/plain": [
       "957"
      ]
     },
     "execution_count": 60,
     "metadata": {},
     "output_type": "execute_result"
    }
   ],
   "source": [
    "rfmTable.query('monetary > 1000')\\\n",
    "        .groupby('monetary')\\\n",
    "        .agg({'customer':'count'}).customer.sum()"
   ]
  },
  {
   "cell_type": "code",
   "execution_count": 61,
   "metadata": {},
   "outputs": [
    {
     "name": "stderr",
     "output_type": "stream",
     "text": [
      "/opt/tljh/user/lib/python3.7/site-packages/seaborn/distributions.py:2557: FutureWarning: `distplot` is a deprecated function and will be removed in a future version. Please adapt your code to use either `displot` (a figure-level function with similar flexibility) or `histplot` (an axes-level function for histograms).\n",
      "  warnings.warn(msg, FutureWarning)\n"
     ]
    },
    {
     "data": {
      "text/plain": [
       "(0.0, 1000.0)"
      ]
     },
     "execution_count": 61,
     "metadata": {},
     "output_type": "execute_result"
    },
    {
     "data": {
      "image/png": "[encoded data removed]",
      "text/plain": [
       "<Figure size 432x288 with 1 Axes>"
      ]
     },
     "metadata": {
      "needs_background": "light"
     },
     "output_type": "display_data"
    }
   ],
   "source": [
    "sns.distplot(rfmTable.monetary, kde=False, bins=1000)\n",
    "plt.xlim(0, 1000)"
   ]
  },
  {
   "cell_type": "code",
   "execution_count": 62,
   "metadata": {},
   "outputs": [
    {
     "data": {
      "text/plain": [
       "14314"
      ]
     },
     "execution_count": 62,
     "metadata": {},
     "output_type": "execute_result"
    }
   ],
   "source": [
    "rfmTable.query('monetary > 200 & monetary < 1000 ')\\\n",
    "        .groupby('monetary')\\\n",
    "        .agg({'customer':'count'}).customer.sum()"
   ]
  },
  {
   "cell_type": "markdown",
   "metadata": {},
   "source": [
    "#### M сегменты:\n",
    "- 4 больше 10000\n",
    "- 3 от 1000 до 10000\n",
    "- 2 от 200 до 1000\n",
    "- 1 меньше 200"
   ]
  },
  {
   "cell_type": "markdown",
   "metadata": {},
   "source": [
    "### Определение средних значений для каждого сегмента RFM модели. Опделение пользователей в каждом сегменте"
   ]
  },
  {
   "cell_type": "code",
   "execution_count": 63,
   "metadata": {},
   "outputs": [],
   "source": [
    "#напишем функцию преобразования колонки для первого варианта R\n",
    "def R1_spliter(column):\n",
    "    if column <= 7:\n",
    "        return 4\n",
    "    if column > 7 and column <= 30:\n",
    "        return 3\n",
    "    if column > 30 and column <= 120:\n",
    "        return 2\n",
    "    if column > 120:\n",
    "        return 1\n",
    "#напишем функцию преобразования колонки для первого варианта F\n",
    "def F1_spliter(column):\n",
    "    if column > 15:\n",
    "        return 4\n",
    "    if column >= 4 and column <= 15:\n",
    "        return 3\n",
    "    if column >= 2 and column <= 3:\n",
    "        return 2\n",
    "    if column == 1:\n",
    "        return 1\n",
    "#напишем функцию преобразования колонки для первого варианта M\n",
    "def M1_spliter(column):\n",
    "    if column > 10000:\n",
    "        return 4\n",
    "    if column >= 1000 and column < 10000:\n",
    "        return 3\n",
    "    if column >= 200 and column < 1000:\n",
    "        return 2\n",
    "    if column < 200:\n",
    "        return 1"
   ]
  },
  {
   "cell_type": "code",
   "execution_count": 64,
   "metadata": {},
   "outputs": [
    {
     "data": {
      "text/html": [
       "<div>\n",
       "<style scoped>\n",
       "    .dataframe tbody tr th:only-of-type {\n",
       "        vertical-align: middle;\n",
       "    }\n",
       "\n",
       "    .dataframe tbody tr th {\n",
       "        vertical-align: top;\n",
       "    }\n",
       "\n",
       "    .dataframe thead th {\n",
       "        text-align: right;\n",
       "    }\n",
       "</style>\n",
       "<table border=\"1\" class=\"dataframe\">\n",
       "  <thead>\n",
       "    <tr style=\"text-align: right;\">\n",
       "      <th></th>\n",
       "      <th>customer</th>\n",
       "      <th>recency</th>\n",
       "      <th>frequency</th>\n",
       "      <th>monetary</th>\n",
       "      <th>R1</th>\n",
       "      <th>F1</th>\n",
       "      <th>M1</th>\n",
       "    </tr>\n",
       "  </thead>\n",
       "  <tbody>\n",
       "    <tr>\n",
       "      <th>0</th>\n",
       "      <td>0000366f3b9a7992bf8c76cfdf3221e2</td>\n",
       "      <td>117</td>\n",
       "      <td>1</td>\n",
       "      <td>129.90</td>\n",
       "      <td>2</td>\n",
       "      <td>1</td>\n",
       "      <td>1</td>\n",
       "    </tr>\n",
       "    <tr>\n",
       "      <th>1</th>\n",
       "      <td>0000b849f77a49e4a4ce2b2a4ca5be3f</td>\n",
       "      <td>120</td>\n",
       "      <td>1</td>\n",
       "      <td>18.90</td>\n",
       "      <td>2</td>\n",
       "      <td>1</td>\n",
       "      <td>1</td>\n",
       "    </tr>\n",
       "    <tr>\n",
       "      <th>2</th>\n",
       "      <td>0000f46a3911fa3c0805444483337064</td>\n",
       "      <td>543</td>\n",
       "      <td>1</td>\n",
       "      <td>69.00</td>\n",
       "      <td>1</td>\n",
       "      <td>1</td>\n",
       "      <td>1</td>\n",
       "    </tr>\n",
       "    <tr>\n",
       "      <th>3</th>\n",
       "      <td>0000f6ccb0745a6a4b88665a16c9f078</td>\n",
       "      <td>327</td>\n",
       "      <td>1</td>\n",
       "      <td>25.99</td>\n",
       "      <td>1</td>\n",
       "      <td>1</td>\n",
       "      <td>1</td>\n",
       "    </tr>\n",
       "    <tr>\n",
       "      <th>4</th>\n",
       "      <td>0004aac84e0df4da2b147fca70cf8255</td>\n",
       "      <td>294</td>\n",
       "      <td>1</td>\n",
       "      <td>180.00</td>\n",
       "      <td>1</td>\n",
       "      <td>1</td>\n",
       "      <td>1</td>\n",
       "    </tr>\n",
       "  </tbody>\n",
       "</table>\n",
       "</div>"
      ],
      "text/plain": [
       "                           customer  recency  frequency  monetary  R1  F1  M1\n",
       "0  0000366f3b9a7992bf8c76cfdf3221e2      117          1    129.90   2   1   1\n",
       "1  0000b849f77a49e4a4ce2b2a4ca5be3f      120          1     18.90   2   1   1\n",
       "2  0000f46a3911fa3c0805444483337064      543          1     69.00   1   1   1\n",
       "3  0000f6ccb0745a6a4b88665a16c9f078      327          1     25.99   1   1   1\n",
       "4  0004aac84e0df4da2b147fca70cf8255      294          1    180.00   1   1   1"
      ]
     },
     "execution_count": 64,
     "metadata": {},
     "output_type": "execute_result"
    }
   ],
   "source": [
    "rfmTable['R1'] = rfmTable['recency'].apply(R1_spliter)\n",
    "rfmTable['F1'] = rfmTable['frequency'].apply(F1_spliter)\n",
    "rfmTable['M1'] = rfmTable['monetary'].apply(M1_spliter)\n",
    "rfmTable.head()"
   ]
  },
  {
   "cell_type": "code",
   "execution_count": 65,
   "metadata": {},
   "outputs": [
    {
     "data": {
      "text/html": [
       "<div>\n",
       "<style scoped>\n",
       "    .dataframe tbody tr th:only-of-type {\n",
       "        vertical-align: middle;\n",
       "    }\n",
       "\n",
       "    .dataframe tbody tr th {\n",
       "        vertical-align: top;\n",
       "    }\n",
       "\n",
       "    .dataframe thead th {\n",
       "        text-align: right;\n",
       "    }\n",
       "</style>\n",
       "<table border=\"1\" class=\"dataframe\">\n",
       "  <thead>\n",
       "    <tr style=\"text-align: right;\">\n",
       "      <th></th>\n",
       "      <th>customer</th>\n",
       "      <th>recency</th>\n",
       "      <th>frequency</th>\n",
       "      <th>monetary</th>\n",
       "      <th>R1</th>\n",
       "      <th>F1</th>\n",
       "      <th>M1</th>\n",
       "      <th>RFM1</th>\n",
       "    </tr>\n",
       "  </thead>\n",
       "  <tbody>\n",
       "    <tr>\n",
       "      <th>0</th>\n",
       "      <td>0000366f3b9a7992bf8c76cfdf3221e2</td>\n",
       "      <td>117</td>\n",
       "      <td>1</td>\n",
       "      <td>129.90</td>\n",
       "      <td>2</td>\n",
       "      <td>1</td>\n",
       "      <td>1</td>\n",
       "      <td>211</td>\n",
       "    </tr>\n",
       "    <tr>\n",
       "      <th>1</th>\n",
       "      <td>0000b849f77a49e4a4ce2b2a4ca5be3f</td>\n",
       "      <td>120</td>\n",
       "      <td>1</td>\n",
       "      <td>18.90</td>\n",
       "      <td>2</td>\n",
       "      <td>1</td>\n",
       "      <td>1</td>\n",
       "      <td>211</td>\n",
       "    </tr>\n",
       "    <tr>\n",
       "      <th>2</th>\n",
       "      <td>0000f46a3911fa3c0805444483337064</td>\n",
       "      <td>543</td>\n",
       "      <td>1</td>\n",
       "      <td>69.00</td>\n",
       "      <td>1</td>\n",
       "      <td>1</td>\n",
       "      <td>1</td>\n",
       "      <td>111</td>\n",
       "    </tr>\n",
       "    <tr>\n",
       "      <th>3</th>\n",
       "      <td>0000f6ccb0745a6a4b88665a16c9f078</td>\n",
       "      <td>327</td>\n",
       "      <td>1</td>\n",
       "      <td>25.99</td>\n",
       "      <td>1</td>\n",
       "      <td>1</td>\n",
       "      <td>1</td>\n",
       "      <td>111</td>\n",
       "    </tr>\n",
       "    <tr>\n",
       "      <th>4</th>\n",
       "      <td>0004aac84e0df4da2b147fca70cf8255</td>\n",
       "      <td>294</td>\n",
       "      <td>1</td>\n",
       "      <td>180.00</td>\n",
       "      <td>1</td>\n",
       "      <td>1</td>\n",
       "      <td>1</td>\n",
       "      <td>111</td>\n",
       "    </tr>\n",
       "  </tbody>\n",
       "</table>\n",
       "</div>"
      ],
      "text/plain": [
       "                           customer  recency  frequency  monetary  R1  F1  M1  \\\n",
       "0  0000366f3b9a7992bf8c76cfdf3221e2      117          1    129.90   2   1   1   \n",
       "1  0000b849f77a49e4a4ce2b2a4ca5be3f      120          1     18.90   2   1   1   \n",
       "2  0000f46a3911fa3c0805444483337064      543          1     69.00   1   1   1   \n",
       "3  0000f6ccb0745a6a4b88665a16c9f078      327          1     25.99   1   1   1   \n",
       "4  0004aac84e0df4da2b147fca70cf8255      294          1    180.00   1   1   1   \n",
       "\n",
       "  RFM1  \n",
       "0  211  \n",
       "1  211  \n",
       "2  111  \n",
       "3  111  \n",
       "4  111  "
      ]
     },
     "execution_count": 65,
     "metadata": {},
     "output_type": "execute_result"
    }
   ],
   "source": [
    "rfmTable['RFM1'] = rfmTable['R1'].astype(str) + rfmTable['F1'].astype(str) + rfmTable['M1'].astype(str)\n",
    "rfmTable.head()"
   ]
  },
  {
   "cell_type": "code",
   "execution_count": 66,
   "metadata": {},
   "outputs": [
    {
     "data": {
      "text/html": [
       "<div>\n",
       "<style scoped>\n",
       "    .dataframe tbody tr th:only-of-type {\n",
       "        vertical-align: middle;\n",
       "    }\n",
       "\n",
       "    .dataframe tbody tr th {\n",
       "        vertical-align: top;\n",
       "    }\n",
       "\n",
       "    .dataframe thead th {\n",
       "        text-align: right;\n",
       "    }\n",
       "</style>\n",
       "<table border=\"1\" class=\"dataframe\">\n",
       "  <thead>\n",
       "    <tr style=\"text-align: right;\">\n",
       "      <th></th>\n",
       "      <th>recency_mean</th>\n",
       "      <th>frequency_mean</th>\n",
       "      <th>monetary_mean</th>\n",
       "    </tr>\n",
       "    <tr>\n",
       "      <th>RFM1</th>\n",
       "      <th></th>\n",
       "      <th></th>\n",
       "      <th></th>\n",
       "    </tr>\n",
       "  </thead>\n",
       "  <tbody>\n",
       "    <tr>\n",
       "      <th>111</th>\n",
       "      <td>303.0</td>\n",
       "      <td>1.0</td>\n",
       "      <td>81.1</td>\n",
       "    </tr>\n",
       "    <tr>\n",
       "      <th>112</th>\n",
       "      <td>306.4</td>\n",
       "      <td>1.0</td>\n",
       "      <td>371.9</td>\n",
       "    </tr>\n",
       "    <tr>\n",
       "      <th>113</th>\n",
       "      <td>313.2</td>\n",
       "      <td>1.0</td>\n",
       "      <td>1573.2</td>\n",
       "    </tr>\n",
       "    <tr>\n",
       "      <th>114</th>\n",
       "      <td>340.0</td>\n",
       "      <td>1.0</td>\n",
       "      <td>13440.0</td>\n",
       "    </tr>\n",
       "    <tr>\n",
       "      <th>121</th>\n",
       "      <td>295.8</td>\n",
       "      <td>2.0</td>\n",
       "      <td>118.3</td>\n",
       "    </tr>\n",
       "    <tr>\n",
       "      <th>122</th>\n",
       "      <td>284.0</td>\n",
       "      <td>2.1</td>\n",
       "      <td>371.7</td>\n",
       "    </tr>\n",
       "    <tr>\n",
       "      <th>123</th>\n",
       "      <td>284.7</td>\n",
       "      <td>2.1</td>\n",
       "      <td>1643.3</td>\n",
       "    </tr>\n",
       "    <tr>\n",
       "      <th>131</th>\n",
       "      <td>575.7</td>\n",
       "      <td>4.7</td>\n",
       "      <td>54.9</td>\n",
       "    </tr>\n",
       "    <tr>\n",
       "      <th>132</th>\n",
       "      <td>215.2</td>\n",
       "      <td>4.6</td>\n",
       "      <td>523.9</td>\n",
       "    </tr>\n",
       "    <tr>\n",
       "      <th>133</th>\n",
       "      <td>267.5</td>\n",
       "      <td>6.5</td>\n",
       "      <td>1023.9</td>\n",
       "    </tr>\n",
       "    <tr>\n",
       "      <th>211</th>\n",
       "      <td>75.4</td>\n",
       "      <td>1.0</td>\n",
       "      <td>82.5</td>\n",
       "    </tr>\n",
       "    <tr>\n",
       "      <th>212</th>\n",
       "      <td>75.3</td>\n",
       "      <td>1.0</td>\n",
       "      <td>381.5</td>\n",
       "    </tr>\n",
       "    <tr>\n",
       "      <th>213</th>\n",
       "      <td>78.7</td>\n",
       "      <td>1.0</td>\n",
       "      <td>1723.0</td>\n",
       "    </tr>\n",
       "    <tr>\n",
       "      <th>221</th>\n",
       "      <td>76.0</td>\n",
       "      <td>2.0</td>\n",
       "      <td>118.7</td>\n",
       "    </tr>\n",
       "    <tr>\n",
       "      <th>222</th>\n",
       "      <td>74.1</td>\n",
       "      <td>2.1</td>\n",
       "      <td>365.0</td>\n",
       "    </tr>\n",
       "    <tr>\n",
       "      <th>223</th>\n",
       "      <td>85.7</td>\n",
       "      <td>2.2</td>\n",
       "      <td>1365.6</td>\n",
       "    </tr>\n",
       "    <tr>\n",
       "      <th>232</th>\n",
       "      <td>85.4</td>\n",
       "      <td>4.8</td>\n",
       "      <td>539.2</td>\n",
       "    </tr>\n",
       "    <tr>\n",
       "      <th>233</th>\n",
       "      <td>77.0</td>\n",
       "      <td>4.5</td>\n",
       "      <td>1592.7</td>\n",
       "    </tr>\n",
       "    <tr>\n",
       "      <th>311</th>\n",
       "      <td>21.0</td>\n",
       "      <td>1.0</td>\n",
       "      <td>80.4</td>\n",
       "    </tr>\n",
       "    <tr>\n",
       "      <th>312</th>\n",
       "      <td>21.7</td>\n",
       "      <td>1.0</td>\n",
       "      <td>361.1</td>\n",
       "    </tr>\n",
       "    <tr>\n",
       "      <th>313</th>\n",
       "      <td>21.4</td>\n",
       "      <td>1.0</td>\n",
       "      <td>1645.9</td>\n",
       "    </tr>\n",
       "    <tr>\n",
       "      <th>321</th>\n",
       "      <td>19.6</td>\n",
       "      <td>2.1</td>\n",
       "      <td>118.1</td>\n",
       "    </tr>\n",
       "    <tr>\n",
       "      <th>322</th>\n",
       "      <td>22.1</td>\n",
       "      <td>2.1</td>\n",
       "      <td>348.5</td>\n",
       "    </tr>\n",
       "    <tr>\n",
       "      <th>323</th>\n",
       "      <td>28.0</td>\n",
       "      <td>2.0</td>\n",
       "      <td>1684.3</td>\n",
       "    </tr>\n",
       "    <tr>\n",
       "      <th>332</th>\n",
       "      <td>17.3</td>\n",
       "      <td>4.5</td>\n",
       "      <td>425.2</td>\n",
       "    </tr>\n",
       "    <tr>\n",
       "      <th>333</th>\n",
       "      <td>24.5</td>\n",
       "      <td>4.0</td>\n",
       "      <td>2883.4</td>\n",
       "    </tr>\n",
       "    <tr>\n",
       "      <th>342</th>\n",
       "      <td>15.0</td>\n",
       "      <td>16.0</td>\n",
       "      <td>729.6</td>\n",
       "    </tr>\n",
       "    <tr>\n",
       "      <th>411</th>\n",
       "      <td>6.8</td>\n",
       "      <td>1.0</td>\n",
       "      <td>70.9</td>\n",
       "    </tr>\n",
       "    <tr>\n",
       "      <th>412</th>\n",
       "      <td>6.6</td>\n",
       "      <td>1.0</td>\n",
       "      <td>417.7</td>\n",
       "    </tr>\n",
       "    <tr>\n",
       "      <th>421</th>\n",
       "      <td>7.0</td>\n",
       "      <td>2.0</td>\n",
       "      <td>41.8</td>\n",
       "    </tr>\n",
       "    <tr>\n",
       "      <th>422</th>\n",
       "      <td>5.0</td>\n",
       "      <td>2.3</td>\n",
       "      <td>274.1</td>\n",
       "    </tr>\n",
       "  </tbody>\n",
       "</table>\n",
       "</div>"
      ],
      "text/plain": [
       "      recency_mean  frequency_mean  monetary_mean\n",
       "RFM1                                             \n",
       "111          303.0             1.0           81.1\n",
       "112          306.4             1.0          371.9\n",
       "113          313.2             1.0         1573.2\n",
       "114          340.0             1.0        13440.0\n",
       "121          295.8             2.0          118.3\n",
       "122          284.0             2.1          371.7\n",
       "123          284.7             2.1         1643.3\n",
       "131          575.7             4.7           54.9\n",
       "132          215.2             4.6          523.9\n",
       "133          267.5             6.5         1023.9\n",
       "211           75.4             1.0           82.5\n",
       "212           75.3             1.0          381.5\n",
       "213           78.7             1.0         1723.0\n",
       "221           76.0             2.0          118.7\n",
       "222           74.1             2.1          365.0\n",
       "223           85.7             2.2         1365.6\n",
       "232           85.4             4.8          539.2\n",
       "233           77.0             4.5         1592.7\n",
       "311           21.0             1.0           80.4\n",
       "312           21.7             1.0          361.1\n",
       "313           21.4             1.0         1645.9\n",
       "321           19.6             2.1          118.1\n",
       "322           22.1             2.1          348.5\n",
       "323           28.0             2.0         1684.3\n",
       "332           17.3             4.5          425.2\n",
       "333           24.5             4.0         2883.4\n",
       "342           15.0            16.0          729.6\n",
       "411            6.8             1.0           70.9\n",
       "412            6.6             1.0          417.7\n",
       "421            7.0             2.0           41.8\n",
       "422            5.0             2.3          274.1"
      ]
     },
     "execution_count": 66,
     "metadata": {},
     "output_type": "execute_result"
    }
   ],
   "source": [
    "rfm_mean1 = rfmTable.groupby('RFM1')\\\n",
    "                    .agg({'recency' : 'mean',\n",
    "                          'frequency': 'mean',\n",
    "                          'monetary' : 'mean'})\\\n",
    "                    .rename(columns={'recency'   : 'recency_mean',\n",
    "                                     'frequency' : 'frequency_mean',\n",
    "                                     'monetary'  : 'monetary_mean'})\\\n",
    "                    .round(1)\n",
    "rfm_mean1"
   ]
  },
  {
   "cell_type": "code",
   "execution_count": 67,
   "metadata": {},
   "outputs": [
    {
     "data": {
      "text/html": [
       "<div>\n",
       "<style scoped>\n",
       "    .dataframe tbody tr th:only-of-type {\n",
       "        vertical-align: middle;\n",
       "    }\n",
       "\n",
       "    .dataframe tbody tr th {\n",
       "        vertical-align: top;\n",
       "    }\n",
       "\n",
       "    .dataframe thead th {\n",
       "        text-align: right;\n",
       "    }\n",
       "</style>\n",
       "<table border=\"1\" class=\"dataframe\">\n",
       "  <thead>\n",
       "    <tr style=\"text-align: right;\">\n",
       "      <th></th>\n",
       "      <th></th>\n",
       "      <th></th>\n",
       "      <th>clients</th>\n",
       "    </tr>\n",
       "    <tr>\n",
       "      <th>R1</th>\n",
       "      <th>F1</th>\n",
       "      <th>M1</th>\n",
       "      <th></th>\n",
       "    </tr>\n",
       "  </thead>\n",
       "  <tbody>\n",
       "    <tr>\n",
       "      <th rowspan=\"10\" valign=\"top\">1</th>\n",
       "      <th rowspan=\"4\" valign=\"top\">1</th>\n",
       "      <th>1</th>\n",
       "      <td>58180</td>\n",
       "    </tr>\n",
       "    <tr>\n",
       "      <th>2</th>\n",
       "      <td>9988</td>\n",
       "    </tr>\n",
       "    <tr>\n",
       "      <th>3</th>\n",
       "      <td>652</td>\n",
       "    </tr>\n",
       "    <tr>\n",
       "      <th>4</th>\n",
       "      <td>1</td>\n",
       "    </tr>\n",
       "    <tr>\n",
       "      <th rowspan=\"3\" valign=\"top\">2</th>\n",
       "      <th>1</th>\n",
       "      <td>1173</td>\n",
       "    </tr>\n",
       "    <tr>\n",
       "      <th>2</th>\n",
       "      <td>836</td>\n",
       "    </tr>\n",
       "    <tr>\n",
       "      <th>3</th>\n",
       "      <td>39</td>\n",
       "    </tr>\n",
       "    <tr>\n",
       "      <th rowspan=\"3\" valign=\"top\">3</th>\n",
       "      <th>1</th>\n",
       "      <td>3</td>\n",
       "    </tr>\n",
       "    <tr>\n",
       "      <th>2</th>\n",
       "      <td>20</td>\n",
       "    </tr>\n",
       "    <tr>\n",
       "      <th>3</th>\n",
       "      <td>2</td>\n",
       "    </tr>\n",
       "    <tr>\n",
       "      <th rowspan=\"8\" valign=\"top\">2</th>\n",
       "      <th rowspan=\"3\" valign=\"top\">1</th>\n",
       "      <th>1</th>\n",
       "      <td>15164</td>\n",
       "    </tr>\n",
       "    <tr>\n",
       "      <th>2</th>\n",
       "      <td>2572</td>\n",
       "    </tr>\n",
       "    <tr>\n",
       "      <th>3</th>\n",
       "      <td>189</td>\n",
       "    </tr>\n",
       "    <tr>\n",
       "      <th rowspan=\"3\" valign=\"top\">2</th>\n",
       "      <th>1</th>\n",
       "      <td>336</td>\n",
       "    </tr>\n",
       "    <tr>\n",
       "      <th>2</th>\n",
       "      <td>276</td>\n",
       "    </tr>\n",
       "    <tr>\n",
       "      <th>3</th>\n",
       "      <td>20</td>\n",
       "    </tr>\n",
       "    <tr>\n",
       "      <th rowspan=\"2\" valign=\"top\">3</th>\n",
       "      <th>2</th>\n",
       "      <td>12</td>\n",
       "    </tr>\n",
       "    <tr>\n",
       "      <th>3</th>\n",
       "      <td>2</td>\n",
       "    </tr>\n",
       "    <tr>\n",
       "      <th rowspan=\"9\" valign=\"top\">3</th>\n",
       "      <th rowspan=\"3\" valign=\"top\">1</th>\n",
       "      <th>1</th>\n",
       "      <td>4329</td>\n",
       "    </tr>\n",
       "    <tr>\n",
       "      <th>2</th>\n",
       "      <td>633</td>\n",
       "    </tr>\n",
       "    <tr>\n",
       "      <th>3</th>\n",
       "      <td>52</td>\n",
       "    </tr>\n",
       "    <tr>\n",
       "      <th rowspan=\"3\" valign=\"top\">2</th>\n",
       "      <th>1</th>\n",
       "      <td>80</td>\n",
       "    </tr>\n",
       "    <tr>\n",
       "      <th>2</th>\n",
       "      <td>70</td>\n",
       "    </tr>\n",
       "    <tr>\n",
       "      <th>3</th>\n",
       "      <td>1</td>\n",
       "    </tr>\n",
       "    <tr>\n",
       "      <th rowspan=\"2\" valign=\"top\">3</th>\n",
       "      <th>2</th>\n",
       "      <td>6</td>\n",
       "    </tr>\n",
       "    <tr>\n",
       "      <th>3</th>\n",
       "      <td>2</td>\n",
       "    </tr>\n",
       "    <tr>\n",
       "      <th>4</th>\n",
       "      <th>2</th>\n",
       "      <td>1</td>\n",
       "    </tr>\n",
       "    <tr>\n",
       "      <th rowspan=\"4\" valign=\"top\">4</th>\n",
       "      <th rowspan=\"2\" valign=\"top\">1</th>\n",
       "      <th>1</th>\n",
       "      <td>42</td>\n",
       "    </tr>\n",
       "    <tr>\n",
       "      <th>2</th>\n",
       "      <td>5</td>\n",
       "    </tr>\n",
       "    <tr>\n",
       "      <th rowspan=\"2\" valign=\"top\">2</th>\n",
       "      <th>1</th>\n",
       "      <td>1</td>\n",
       "    </tr>\n",
       "    <tr>\n",
       "      <th>2</th>\n",
       "      <td>3</td>\n",
       "    </tr>\n",
       "  </tbody>\n",
       "</table>\n",
       "</div>"
      ],
      "text/plain": [
       "          clients\n",
       "R1 F1 M1         \n",
       "1  1  1     58180\n",
       "      2      9988\n",
       "      3       652\n",
       "      4         1\n",
       "   2  1      1173\n",
       "      2       836\n",
       "      3        39\n",
       "   3  1         3\n",
       "      2        20\n",
       "      3         2\n",
       "2  1  1     15164\n",
       "      2      2572\n",
       "      3       189\n",
       "   2  1       336\n",
       "      2       276\n",
       "      3        20\n",
       "   3  2        12\n",
       "      3         2\n",
       "3  1  1      4329\n",
       "      2       633\n",
       "      3        52\n",
       "   2  1        80\n",
       "      2        70\n",
       "      3         1\n",
       "   3  2         6\n",
       "      3         2\n",
       "   4  2         1\n",
       "4  1  1        42\n",
       "      2         5\n",
       "   2  1         1\n",
       "      2         3"
      ]
     },
     "execution_count": 67,
     "metadata": {},
     "output_type": "execute_result"
    }
   ],
   "source": [
    "rfm_clients1 = rfmTable.groupby(['R1', 'F1', 'M1'])\\\n",
    "                       .agg({'recency': 'count'})\\\n",
    "                       .rename(columns={'recency':'clients'})\n",
    "rfm_clients1"
   ]
  },
  {
   "cell_type": "code",
   "execution_count": 68,
   "metadata": {},
   "outputs": [
    {
     "data": {
      "text/html": [
       "<div>\n",
       "<style scoped>\n",
       "    .dataframe tbody tr th:only-of-type {\n",
       "        vertical-align: middle;\n",
       "    }\n",
       "\n",
       "    .dataframe tbody tr th {\n",
       "        vertical-align: top;\n",
       "    }\n",
       "\n",
       "    .dataframe thead th {\n",
       "        text-align: right;\n",
       "    }\n",
       "</style>\n",
       "<table border=\"1\" class=\"dataframe\">\n",
       "  <thead>\n",
       "    <tr style=\"text-align: right;\">\n",
       "      <th></th>\n",
       "      <th>total_rfm_score1</th>\n",
       "    </tr>\n",
       "    <tr>\n",
       "      <th>total_rfm_score1</th>\n",
       "      <th></th>\n",
       "    </tr>\n",
       "  </thead>\n",
       "  <tbody>\n",
       "    <tr>\n",
       "      <th>3</th>\n",
       "      <td>58180</td>\n",
       "    </tr>\n",
       "    <tr>\n",
       "      <th>4</th>\n",
       "      <td>26325</td>\n",
       "    </tr>\n",
       "    <tr>\n",
       "      <th>5</th>\n",
       "      <td>8728</td>\n",
       "    </tr>\n",
       "    <tr>\n",
       "      <th>6</th>\n",
       "      <td>1280</td>\n",
       "    </tr>\n",
       "    <tr>\n",
       "      <th>7</th>\n",
       "      <td>162</td>\n",
       "    </tr>\n",
       "    <tr>\n",
       "      <th>8</th>\n",
       "      <td>12</td>\n",
       "    </tr>\n",
       "    <tr>\n",
       "      <th>9</th>\n",
       "      <td>3</td>\n",
       "    </tr>\n",
       "  </tbody>\n",
       "</table>\n",
       "</div>"
      ],
      "text/plain": [
       "                  total_rfm_score1\n",
       "total_rfm_score1                  \n",
       "3                            58180\n",
       "4                            26325\n",
       "5                             8728\n",
       "6                             1280\n",
       "7                              162\n",
       "8                               12\n",
       "9                                3"
      ]
     },
     "execution_count": 68,
     "metadata": {},
     "output_type": "execute_result"
    }
   ],
   "source": [
    "rfmTable['total_rfm_score1'] = rfmTable.R1 + rfmTable.F1 + rfmTable.M1\n",
    "rfmTable.groupby('total_rfm_score1')\\\n",
    "        .agg({'customer': 'count'})\\\n",
    "        .rename(columns={'customer' : 'total_rfm_score1'})"
   ]
  },
  {
   "cell_type": "markdown",
   "metadata": {},
   "source": [
    "Особенность данного подхода заключается в том, что мы хорошо выделяем небольшую группу пользователей, которые совершают покупки на большие суммы, часто и недавно, и для этих сверхлояльных пользователей мы могли бы сделать очень выгодные персональные предложения. На рейтинги 6-9 приходится всего не больше 1500 пользователей."
   ]
  },
  {
   "cell_type": "markdown",
   "metadata": {},
   "source": [
    "### Вариант 2 - Приоритет \"среднему\" пользователю"
   ]
  },
  {
   "cell_type": "markdown",
   "metadata": {},
   "source": [
    "В первом варианте мы выделели три сегмента и четвертый для самого ТОПа пользователей в каждой категории. В этом варианте возьмем только три сегмента и постараемся сделать их равномерно распределенными."
   ]
  },
  {
   "cell_type": "code",
   "execution_count": 69,
   "metadata": {},
   "outputs": [
    {
     "data": {
      "text/html": [
       "<div>\n",
       "<style scoped>\n",
       "    .dataframe tbody tr th:only-of-type {\n",
       "        vertical-align: middle;\n",
       "    }\n",
       "\n",
       "    .dataframe tbody tr th {\n",
       "        vertical-align: top;\n",
       "    }\n",
       "\n",
       "    .dataframe thead th {\n",
       "        text-align: right;\n",
       "    }\n",
       "</style>\n",
       "<table border=\"1\" class=\"dataframe\">\n",
       "  <thead>\n",
       "    <tr style=\"text-align: right;\">\n",
       "      <th></th>\n",
       "      <th>customer</th>\n",
       "    </tr>\n",
       "    <tr>\n",
       "      <th>frequency</th>\n",
       "      <th></th>\n",
       "    </tr>\n",
       "  </thead>\n",
       "  <tbody>\n",
       "    <tr>\n",
       "      <th>1</th>\n",
       "      <td>91807</td>\n",
       "    </tr>\n",
       "    <tr>\n",
       "      <th>2</th>\n",
       "      <td>2647</td>\n",
       "    </tr>\n",
       "    <tr>\n",
       "      <th>3</th>\n",
       "      <td>188</td>\n",
       "    </tr>\n",
       "    <tr>\n",
       "      <th>4</th>\n",
       "      <td>29</td>\n",
       "    </tr>\n",
       "    <tr>\n",
       "      <th>5</th>\n",
       "      <td>9</td>\n",
       "    </tr>\n",
       "    <tr>\n",
       "      <th>6</th>\n",
       "      <td>5</td>\n",
       "    </tr>\n",
       "    <tr>\n",
       "      <th>7</th>\n",
       "      <td>3</td>\n",
       "    </tr>\n",
       "    <tr>\n",
       "      <th>9</th>\n",
       "      <td>1</td>\n",
       "    </tr>\n",
       "    <tr>\n",
       "      <th>16</th>\n",
       "      <td>1</td>\n",
       "    </tr>\n",
       "  </tbody>\n",
       "</table>\n",
       "</div>"
      ],
      "text/plain": [
       "           customer\n",
       "frequency          \n",
       "1             91807\n",
       "2              2647\n",
       "3               188\n",
       "4                29\n",
       "5                 9\n",
       "6                 5\n",
       "7                 3\n",
       "9                 1\n",
       "16                1"
      ]
     },
     "execution_count": 69,
     "metadata": {},
     "output_type": "execute_result"
    }
   ],
   "source": [
    "rfmTable.groupby('frequency')\\\n",
    "        .agg({'customer':'count'})"
   ]
  },
  {
   "cell_type": "markdown",
   "metadata": {},
   "source": [
    "Самый взвешенный вариант с частотой при трех сегментах возможен при следующем:\n",
    "- 1 балл пользователей совершившие единичную покупку\n",
    "- 2 балла пользователи совершившие две покупки\n",
    "- 3 балла пользователей совершившие три и более покупки "
   ]
  },
  {
   "cell_type": "markdown",
   "metadata": {},
   "source": [
    "Для давности посмотрим на 33 и 66 процентиль:"
   ]
  },
  {
   "cell_type": "code",
   "execution_count": 70,
   "metadata": {},
   "outputs": [
    {
     "data": {
      "text/plain": [
       "153.0"
      ]
     },
     "execution_count": 70,
     "metadata": {},
     "output_type": "execute_result"
    }
   ],
   "source": [
    "rfmTable.recency.quantile(q=0.33)"
   ]
  },
  {
   "cell_type": "code",
   "execution_count": 71,
   "metadata": {},
   "outputs": [
    {
     "data": {
      "text/plain": [
       "292.0"
      ]
     },
     "execution_count": 71,
     "metadata": {},
     "output_type": "execute_result"
    }
   ],
   "source": [
    "rfmTable.recency.quantile(q=0.66)"
   ]
  },
  {
   "cell_type": "markdown",
   "metadata": {},
   "source": [
    "Округлим до полугода:\n",
    "- 1 балл пользователей совершившие покупку больше 292 дня назад\n",
    "- 2 балла 153 - 292\n",
    "- 3 балла больше 292"
   ]
  },
  {
   "cell_type": "markdown",
   "metadata": {},
   "source": [
    "По деньгам так же возьмем 33 и 66 процентиль:"
   ]
  },
  {
   "cell_type": "code",
   "execution_count": 72,
   "metadata": {},
   "outputs": [
    {
     "data": {
      "text/plain": [
       "57.99"
      ]
     },
     "execution_count": 72,
     "metadata": {},
     "output_type": "execute_result"
    }
   ],
   "source": [
    "rfmTable.monetary.quantile(q=0.33)"
   ]
  },
  {
   "cell_type": "code",
   "execution_count": 73,
   "metadata": {},
   "outputs": [
    {
     "data": {
      "text/plain": [
       "124.99"
      ]
     },
     "execution_count": 73,
     "metadata": {},
     "output_type": "execute_result"
    }
   ],
   "source": [
    "rfmTable.monetary.quantile(q=0.66)"
   ]
  },
  {
   "cell_type": "markdown",
   "metadata": {},
   "source": [
    "По деньгам получим сегменты:\n",
    "- 1 балл пользователей совершившие покупку менее чем на 58 долларов\n",
    "- 2 балла 58 - 360 долларов\n",
    "- 3 балла больше 125"
   ]
  },
  {
   "cell_type": "code",
   "execution_count": 74,
   "metadata": {},
   "outputs": [],
   "source": [
    "#напишем функцию преобразования колонки для второго варианта R\n",
    "def R2_spliter(column):\n",
    "    if column <= 153:\n",
    "        return 3\n",
    "    if column > 153 and column <= 292:\n",
    "        return 2\n",
    "    if column > 292:\n",
    "        return 1\n",
    "#напишем функцию преобразования колонки для второго варианта F\n",
    "def F2_spliter(column):\n",
    "    if column > 2:\n",
    "        return 3\n",
    "    if column == 2:\n",
    "        return 2\n",
    "    if column == 1:\n",
    "        return 1\n",
    "#напишем функцию преобразования колонки для второго варианта M\n",
    "def M2_spliter(column):\n",
    "    if column > 125:\n",
    "        return 3\n",
    "    if column >= 58 and column <= 125:\n",
    "        return 2\n",
    "    if column < 58:\n",
    "        return 1"
   ]
  },
  {
   "cell_type": "code",
   "execution_count": null,
   "metadata": {},
   "outputs": [],
   "source": [
    "rfmTable['R2'] = rfmTable['recency'].apply(R2_spliter)\n",
    "rfmTable['F2'] = rfmTable['frequency'].apply(F2_spliter)\n",
    "rfmTable['M2'] = rfmTable['monetary'].apply(M2_spliter)\n",
    "rfmTable['RFM2'] = rfmTable['R2'].astype(str) + rfmTable['F2'].astype(str) + rfmTable['M2'].astype(str)\n",
    "rfmTable['total_rfm_score2'] = rfmTable.R2 + rfmTable.F2 + rfmTable.M2\n",
    "rfmTable.head()"
   ]
  },
  {
   "cell_type": "code",
   "execution_count": null,
   "metadata": {},
   "outputs": [],
   "source": [
    "rfm_mean2 = rfmTable.groupby('RFM2')\\\n",
    "                    .agg({'recency' : 'mean',\n",
    "                          'frequency': 'mean',\n",
    "                          'monetary' : 'mean'})\\\n",
    "                    .rename(columns={'recency'   : 'recency_mean',\n",
    "                                    'frequency' : 'frequency_mean',\n",
    "                                    'monetary'  : 'monetary_mean'})\\\n",
    "                    .round(1)\n",
    "rfm_mean2"
   ]
  },
  {
   "cell_type": "code",
   "execution_count": null,
   "metadata": {},
   "outputs": [],
   "source": [
    "rfm_clients2 = rfmTable.groupby(['R2', 'F2', 'M2'])\\\n",
    "                       .agg({'recency': 'count'})\\\n",
    "                       .rename(columns={'recency':'clients'})\n",
    "rfm_clients2"
   ]
  },
  {
   "cell_type": "markdown",
   "metadata": {},
   "source": [
    "### Отдаем результаты менеджеру на ревью\n",
    "Показываем менеджеру Василию первый вариант (распределение пользователей по сегментам rfm_clients1 и средние в каждом сегменте rfm_mean1) с приоритезацией и выявлением самых покупающих и тратящих пользователей, которых стоит удерживать и второй вариант (распределение пользователей по сегментам rfm_clients2 и средние в каждом сегменте rfm_mean2) с приоритезайцией и выявлением среднестатистического пользователя, с которыми стоит работать над увеличением числа заказов и общей суммы покупок для перехода в сегменты выше. Дальше совместно, исходя из реальной маркетинговой компании и бюджета, думаем как построить третий вариант, сколько в нем будет сегментов и как лучше выбрать границы, который лучше всего подойдет маркетинговой компании и бизнесу."
   ]
  },
  {
   "cell_type": "code",
   "execution_count": null,
   "metadata": {},
   "outputs": [],
   "source": [
    "#распределение пользователей по общему баллу RFM для первого варианта\n",
    "rfmcustomersdist1 = data= rfmTable.groupby('total_rfm_score1', as_index=False)\\\n",
    "                                  .agg({'customer': 'count'})\\\n",
    "                                  .rename(columns={'customer' : 'customers'})\n",
    "sns.barplot(data= rfmcustomersdist1, x='total_rfm_score1', y='customers')"
   ]
  },
  {
   "cell_type": "code",
   "execution_count": null,
   "metadata": {},
   "outputs": [],
   "source": [
    "#распределение пользователей по общему баллу RFM для второго варианта\n",
    "rfmcustomersdist2 = data= rfmTable.groupby('total_rfm_score2', as_index=False)\\\n",
    "                                  .agg({'customer': 'count'})\\\n",
    "                                  .rename(columns={'customer' : 'customers'})\n",
    "sns.barplot(data= rfmcustomersdist2, x='total_rfm_score2', y='customers')"
   ]
  },
  {
   "cell_type": "markdown",
   "metadata": {},
   "source": [
    "# Summary"
   ]
  },
  {
   "cell_type": "markdown",
   "metadata": {},
   "source": [
    "#### 1. Сколько у нас пользователей, которые совершили покупку только один раз? \n",
    "- 90549 пользователей совершили покупку (заказ, order) только один раз. При этом не доставленные заказы и отмененные не учтены.\n",
    "\n",
    "#### 2. Сколько заказов в месяц в среднем не доставляется по разным причинам (вывести детализацию по причинам)?\n",
    "- данные записаны в not_delivered_by_reason"
   ]
  },
  {
   "cell_type": "code",
   "execution_count": null,
   "metadata": {},
   "outputs": [],
   "source": [
    "not_delivered_by_reason"
   ]
  },
  {
   "cell_type": "markdown",
   "metadata": {},
   "source": [
    "Возможные причины для каждого статуса, из-за чего заказ не был доставлен клиенту:\n",
    "- approved —  подтверждён. Внутреняя ошибка сервиса. \n",
    "- invoiced —  выставлен счёт. Клиент не оплатил заказ. \n",
    "- processing —  в процессе сборки заказа. Заказ отсутствует на складе. \n",
    "- shipped —  отгружен со склада. Был утерян курьерской службой.\n",
    "- delivered —  доставлен пользователю. Доставлен неверный заказ. \n",
    "- unavailable —  недоступен\n",
    "- canceled —  отменён"
   ]
  },
  {
   "cell_type": "markdown",
   "metadata": {},
   "source": [
    "#### 3. По каждому товару определить, в какой день недели товар чаще всего покупается.\n",
    "- prod_best_weekday_1 - для каждого товара определены все дни недели, в которые он был куплен максимальное количество раз.\n",
    "- prod_best_weekday_2 - для каждого товара определен только один единственный день недели, в который покупок было больше, чем в другие дни.\n",
    "- третий вариант с проверкой статистических различий, при необходимости после диалога с менеджером Василием\n",
    "\n",
    "#### 4. Сколько у каждого из пользователей в среднем покупок в неделю (по месяцам)?\n",
    "- Среднее количество покупок в неделю для каждого пользователя записано в датафрейм avg_products_per_week.\n"
   ]
  },
  {
   "cell_type": "code",
   "execution_count": null,
   "metadata": {},
   "outputs": [],
   "source": [
    "avg_products_per_week.head(3)"
   ]
  },
  {
   "cell_type": "markdown",
   "metadata": {},
   "source": [
    "- Строки - уникальные номера пользоваталей (customer_unique_id), \n",
    "- Столбцы - месяц в формате год_месяц даты оплаты заказа, \n",
    "- Значения - среднее количество купленых товаров в месяц\n",
    "\n",
    "#### 5. Напиши функцию на python, позволяющую строить когортный анализ. \n",
    "- функция make_cohorts (x, y), где х данные о пользоваетелях (customers), а у данные о заказах (orders)\n",
    "\n",
    "#### В период с января по декабрь выяви когорту с самым высоким retention на 3-й месяц. Описание подхода можно найти тут.\n",
    "- В период с января по декабрь с самым высоким retention на 3-й месяц является когорта пользователей, совершивших первую покупку в мае 2017 года.\n",
    "\n",
    "#### 6. Построй RFM-кластеры для пользователей. \n",
    "- данные о количестве пользователей в каждом кластере записаны в rfm_clients1 (развесовка на наиболее лояльных)\n",
    "- для среднячковых пользователей во втором варианте данные записаны в rfm_clients2\n",
    "\n",
    "#### Выведи для каждого кластера средние значения метрик R, F, M. \n",
    "- средние значения R, F, M записаны в rfm_mean1 (развесовка по наиболее лояльным)\n",
    "- для среднячковых пользователей данные записаны в rfm_mean2\n",
    "\n",
    "Более подробно см. полный раздел."
   ]
  }
 ],
 "metadata": {
  "kernelspec": {
   "display_name": "Python 3",
   "language": "python",
   "name": "python3"
  },
  "language_info": {
   "codemirror_mode": {
    "name": "ipython",
    "version": 3
   },
   "file_extension": ".py",
   "mimetype": "text/x-python",
   "name": "python",
   "nbconvert_exporter": "python",
   "pygments_lexer": "ipython3",
   "version": "3.7.3"
  }
 },
 "nbformat": 4,
 "nbformat_minor": 4
}
